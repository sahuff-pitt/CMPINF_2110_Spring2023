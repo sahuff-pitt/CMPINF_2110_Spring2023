{
 "cells": [
  {
   "cell_type": "markdown",
   "id": "anonymous-selling",
   "metadata": {},
   "source": [
    "## CMPINF 2110 Spring 2022 - Week 03\n",
    "\n",
    "### Joining/Merging data \n",
    " \n",
    "Joining two or more data sets together is a critical step in many data analysis projects. Joins represent that different data objects are **related** in some way. Our question of interest requires that we bring information from the various data sets together. This notebook introduces joins from a data analysis context. The examples mostly come from Chapter 13 of the [R for Data Science](https://r4ds.had.co.nz/relational-data.html) (R4DS) by Hadley Wickham. I highly recommend that you read that chapter. I have converted the introductory examples from R to Python using Pandas. The discussion and pictures within the R4DS book clearly depict the mechanisms of data joins. I will sometimes make use of the phrases and text within R4DS in the discussion of the notebook and so please take this statement as an unofficial citation of the excellent R4DS book.\n",
    "\n",
    "As we will see in the weeks to come, joins are an essential aspect of **relational data**. We will discuss the **relational data model** in more detail later on, however many of the concepts can be demonstrated with DataFrames before we start working with MySQL."
   ]
  },
  {
   "cell_type": "markdown",
   "id": "ecological-diameter",
   "metadata": {},
   "source": [
    "## Import modules\n",
    "\n",
    "The four primary modules that we work with are imported below."
   ]
  },
  {
   "cell_type": "code",
   "execution_count": 1,
   "id": "differential-company",
   "metadata": {},
   "outputs": [],
   "source": [
    "import numpy as np\n",
    "import pandas as pd\n",
    "import matplotlib.pyplot as plt\n",
    "\n",
    "import seaborn as sns"
   ]
  },
  {
   "cell_type": "markdown",
   "id": "hungry-uzbekistan",
   "metadata": {},
   "source": [
    "## Introduction to joins\n",
    "\n",
    "The following examples come from section 13.4.1 from [R4DS](https://r4ds.had.co.nz/relational-data.html#understanding-joins).\n",
    "\n",
    "Let's create 2 simple DataFrames, `x` and `y`. Both contain 3 rows and 2 columns. They each have a `key` column which uniquely identifies an observation (a row). An observation contained in the `x` DataFrame records the value of the `val_x` variable, while an observation in the `y` DataFrame records the value of the `val_y` variable."
   ]
  },
  {
   "cell_type": "code",
   "execution_count": 9,
   "id": "increasing-nigeria",
   "metadata": {},
   "outputs": [
    {
     "data": {
      "text/html": [
       "<div>\n",
       "<style scoped>\n",
       "    .dataframe tbody tr th:only-of-type {\n",
       "        vertical-align: middle;\n",
       "    }\n",
       "\n",
       "    .dataframe tbody tr th {\n",
       "        vertical-align: top;\n",
       "    }\n",
       "\n",
       "    .dataframe thead th {\n",
       "        text-align: right;\n",
       "    }\n",
       "</style>\n",
       "<table border=\"1\" class=\"dataframe\">\n",
       "  <thead>\n",
       "    <tr style=\"text-align: right;\">\n",
       "      <th></th>\n",
       "      <th>key</th>\n",
       "      <th>val_x</th>\n",
       "    </tr>\n",
       "  </thead>\n",
       "  <tbody>\n",
       "    <tr>\n",
       "      <th>0</th>\n",
       "      <td>1</td>\n",
       "      <td>x1</td>\n",
       "    </tr>\n",
       "    <tr>\n",
       "      <th>1</th>\n",
       "      <td>2</td>\n",
       "      <td>x2</td>\n",
       "    </tr>\n",
       "    <tr>\n",
       "      <th>2</th>\n",
       "      <td>3</td>\n",
       "      <td>x3</td>\n",
       "    </tr>\n",
       "  </tbody>\n",
       "</table>\n",
       "</div>"
      ],
      "text/plain": [
       "   key val_x\n",
       "0    1    x1\n",
       "1    2    x2\n",
       "2    3    x3"
      ]
     },
     "execution_count": 9,
     "metadata": {},
     "output_type": "execute_result"
    }
   ],
   "source": [
    "x = pd.DataFrame({'key': [1, 2, 3], 'val_x': ['x1', 'x2', 'x3']})\n",
    "\n",
    "x"
   ]
  },
  {
   "cell_type": "code",
   "execution_count": 3,
   "id": "competitive-dakota",
   "metadata": {},
   "outputs": [
    {
     "data": {
      "text/html": [
       "<div>\n",
       "<style scoped>\n",
       "    .dataframe tbody tr th:only-of-type {\n",
       "        vertical-align: middle;\n",
       "    }\n",
       "\n",
       "    .dataframe tbody tr th {\n",
       "        vertical-align: top;\n",
       "    }\n",
       "\n",
       "    .dataframe thead th {\n",
       "        text-align: right;\n",
       "    }\n",
       "</style>\n",
       "<table border=\"1\" class=\"dataframe\">\n",
       "  <thead>\n",
       "    <tr style=\"text-align: right;\">\n",
       "      <th></th>\n",
       "      <th>key</th>\n",
       "      <th>val_y</th>\n",
       "    </tr>\n",
       "  </thead>\n",
       "  <tbody>\n",
       "    <tr>\n",
       "      <th>0</th>\n",
       "      <td>1</td>\n",
       "      <td>y1</td>\n",
       "    </tr>\n",
       "    <tr>\n",
       "      <th>1</th>\n",
       "      <td>2</td>\n",
       "      <td>y2</td>\n",
       "    </tr>\n",
       "    <tr>\n",
       "      <th>2</th>\n",
       "      <td>4</td>\n",
       "      <td>y3</td>\n",
       "    </tr>\n",
       "  </tbody>\n",
       "</table>\n",
       "</div>"
      ],
      "text/plain": [
       "   key val_y\n",
       "0    1    y1\n",
       "1    2    y2\n",
       "2    4    y3"
      ]
     },
     "execution_count": 3,
     "metadata": {},
     "output_type": "execute_result"
    }
   ],
   "source": [
    "y = pd.DataFrame({'key': [1, 2, 4], 'val_y': ['y1', 'y2', 'y3']})\n",
    "\n",
    "y"
   ]
  },
  {
   "cell_type": "markdown",
   "id": "prepared-alfred",
   "metadata": {},
   "source": [
    "We wish to combine the `x` and `y` data sets together. We can think of a few ways to do so, such as concatenating the two vertically using the `pd.concat()` function."
   ]
  },
  {
   "cell_type": "code",
   "execution_count": 4,
   "id": "classified-agency",
   "metadata": {},
   "outputs": [
    {
     "data": {
      "text/html": [
       "<div>\n",
       "<style scoped>\n",
       "    .dataframe tbody tr th:only-of-type {\n",
       "        vertical-align: middle;\n",
       "    }\n",
       "\n",
       "    .dataframe tbody tr th {\n",
       "        vertical-align: top;\n",
       "    }\n",
       "\n",
       "    .dataframe thead th {\n",
       "        text-align: right;\n",
       "    }\n",
       "</style>\n",
       "<table border=\"1\" class=\"dataframe\">\n",
       "  <thead>\n",
       "    <tr style=\"text-align: right;\">\n",
       "      <th></th>\n",
       "      <th>id</th>\n",
       "      <th>val_x</th>\n",
       "      <th>key</th>\n",
       "      <th>val_y</th>\n",
       "    </tr>\n",
       "  </thead>\n",
       "  <tbody>\n",
       "    <tr>\n",
       "      <th>0</th>\n",
       "      <td>1.0</td>\n",
       "      <td>x1</td>\n",
       "      <td>NaN</td>\n",
       "      <td>NaN</td>\n",
       "    </tr>\n",
       "    <tr>\n",
       "      <th>1</th>\n",
       "      <td>2.0</td>\n",
       "      <td>x2</td>\n",
       "      <td>NaN</td>\n",
       "      <td>NaN</td>\n",
       "    </tr>\n",
       "    <tr>\n",
       "      <th>2</th>\n",
       "      <td>3.0</td>\n",
       "      <td>x3</td>\n",
       "      <td>NaN</td>\n",
       "      <td>NaN</td>\n",
       "    </tr>\n",
       "    <tr>\n",
       "      <th>0</th>\n",
       "      <td>NaN</td>\n",
       "      <td>NaN</td>\n",
       "      <td>1.0</td>\n",
       "      <td>y1</td>\n",
       "    </tr>\n",
       "    <tr>\n",
       "      <th>1</th>\n",
       "      <td>NaN</td>\n",
       "      <td>NaN</td>\n",
       "      <td>2.0</td>\n",
       "      <td>y2</td>\n",
       "    </tr>\n",
       "    <tr>\n",
       "      <th>2</th>\n",
       "      <td>NaN</td>\n",
       "      <td>NaN</td>\n",
       "      <td>4.0</td>\n",
       "      <td>y3</td>\n",
       "    </tr>\n",
       "  </tbody>\n",
       "</table>\n",
       "</div>"
      ],
      "text/plain": [
       "    id val_x  key val_y\n",
       "0  1.0    x1  NaN   NaN\n",
       "1  2.0    x2  NaN   NaN\n",
       "2  3.0    x3  NaN   NaN\n",
       "0  NaN   NaN  1.0    y1\n",
       "1  NaN   NaN  2.0    y2\n",
       "2  NaN   NaN  4.0    y3"
      ]
     },
     "execution_count": 4,
     "metadata": {},
     "output_type": "execute_result"
    }
   ],
   "source": [
    "pd.concat([x, y], axis=0)"
   ]
  },
  {
   "cell_type": "markdown",
   "id": "packed-private",
   "metadata": {},
   "source": [
    "Or concatenating horizontally by specifying `axis=1`."
   ]
  },
  {
   "cell_type": "code",
   "execution_count": 5,
   "id": "ignored-arthur",
   "metadata": {},
   "outputs": [
    {
     "data": {
      "text/html": [
       "<div>\n",
       "<style scoped>\n",
       "    .dataframe tbody tr th:only-of-type {\n",
       "        vertical-align: middle;\n",
       "    }\n",
       "\n",
       "    .dataframe tbody tr th {\n",
       "        vertical-align: top;\n",
       "    }\n",
       "\n",
       "    .dataframe thead th {\n",
       "        text-align: right;\n",
       "    }\n",
       "</style>\n",
       "<table border=\"1\" class=\"dataframe\">\n",
       "  <thead>\n",
       "    <tr style=\"text-align: right;\">\n",
       "      <th></th>\n",
       "      <th>id</th>\n",
       "      <th>val_x</th>\n",
       "      <th>key</th>\n",
       "      <th>val_y</th>\n",
       "    </tr>\n",
       "  </thead>\n",
       "  <tbody>\n",
       "    <tr>\n",
       "      <th>0</th>\n",
       "      <td>1</td>\n",
       "      <td>x1</td>\n",
       "      <td>1</td>\n",
       "      <td>y1</td>\n",
       "    </tr>\n",
       "    <tr>\n",
       "      <th>1</th>\n",
       "      <td>2</td>\n",
       "      <td>x2</td>\n",
       "      <td>2</td>\n",
       "      <td>y2</td>\n",
       "    </tr>\n",
       "    <tr>\n",
       "      <th>2</th>\n",
       "      <td>3</td>\n",
       "      <td>x3</td>\n",
       "      <td>4</td>\n",
       "      <td>y3</td>\n",
       "    </tr>\n",
       "  </tbody>\n",
       "</table>\n",
       "</div>"
      ],
      "text/plain": [
       "   id val_x  key val_y\n",
       "0   1    x1    1    y1\n",
       "1   2    x2    2    y2\n",
       "2   3    x3    4    y3"
      ]
     },
     "execution_count": 5,
     "metadata": {},
     "output_type": "execute_result"
    }
   ],
   "source": [
    "pd.concat([x, y], axis=1)"
   ]
  },
  {
   "cell_type": "markdown",
   "id": "polished-pleasure",
   "metadata": {},
   "source": [
    "Although vertical and horizontal concatenations are appropriate in some contexts (we have used vertical concat several times this semester), neither seem to yield satisfactory results for this example. We wish to **join** or **merge** the two data sets to allow us to examine the behavior of `val_x` **and** `val_y` for the **same** observation. Do either of the above results allow us to do that?\n",
    "\n",
    "The appropriate way to **join** the data sets together is to match the rows based on the `key` value. The Pandas User Guide calls this style of joining [Database-style DataFrame joining/merging](https://pandas.pydata.org/docs/user_guide/merging.html#database-style-dataframe-or-named-series-joining-merging) (I recommend reading over that portion of the Pandas User Guide for a Pandas focused introduction to joins). The \"Database-style\" name refers to the fact that these joins are inspired by and make use of SQL concepts and ideas. We will discuss SQL in the weeks to come.  \n",
    "\n",
    "The \"database-style\" joins can be performed one of two ways. The `pd.merge()` function can be used to join or merge a \"left\" DataFrame with a \"right\" DataFrame. The \"left\" and \"right\" terms are associated with the argument order in the function call:  \n",
    "\n",
    "`pd.merge( <LeftDataFrame>, <RightDataFrame> )`\n",
    "\n",
    "The second approach is to access the `.merge()` method associated with a DataFrame object. In this setup the \"left\" DataFrame is the object itself.\n",
    "\n",
    "### Inner-join\n",
    "\n",
    "Let's start with the default joining method in `pd.merge()`, the **inner-join**. An inner-join matches the rows based on the value of the key variable. Thus, in our simple example we want to combine the `val_x` and `val_y` columns whenever `key` is the same in the two DataFrames. Before executing the `pd.merge()` function, let's look at our DataFrames again. Which rows share the `key` value between the two data sets?"
   ]
  },
  {
   "cell_type": "code",
   "execution_count": 10,
   "id": "trained-transcription",
   "metadata": {},
   "outputs": [
    {
     "data": {
      "text/html": [
       "<div>\n",
       "<style scoped>\n",
       "    .dataframe tbody tr th:only-of-type {\n",
       "        vertical-align: middle;\n",
       "    }\n",
       "\n",
       "    .dataframe tbody tr th {\n",
       "        vertical-align: top;\n",
       "    }\n",
       "\n",
       "    .dataframe thead th {\n",
       "        text-align: right;\n",
       "    }\n",
       "</style>\n",
       "<table border=\"1\" class=\"dataframe\">\n",
       "  <thead>\n",
       "    <tr style=\"text-align: right;\">\n",
       "      <th></th>\n",
       "      <th>key</th>\n",
       "      <th>val_x</th>\n",
       "    </tr>\n",
       "  </thead>\n",
       "  <tbody>\n",
       "    <tr>\n",
       "      <th>0</th>\n",
       "      <td>1</td>\n",
       "      <td>x1</td>\n",
       "    </tr>\n",
       "    <tr>\n",
       "      <th>1</th>\n",
       "      <td>2</td>\n",
       "      <td>x2</td>\n",
       "    </tr>\n",
       "    <tr>\n",
       "      <th>2</th>\n",
       "      <td>3</td>\n",
       "      <td>x3</td>\n",
       "    </tr>\n",
       "  </tbody>\n",
       "</table>\n",
       "</div>"
      ],
      "text/plain": [
       "   key val_x\n",
       "0    1    x1\n",
       "1    2    x2\n",
       "2    3    x3"
      ]
     },
     "execution_count": 10,
     "metadata": {},
     "output_type": "execute_result"
    }
   ],
   "source": [
    "x"
   ]
  },
  {
   "cell_type": "code",
   "execution_count": 7,
   "id": "alleged-russian",
   "metadata": {},
   "outputs": [
    {
     "data": {
      "text/html": [
       "<div>\n",
       "<style scoped>\n",
       "    .dataframe tbody tr th:only-of-type {\n",
       "        vertical-align: middle;\n",
       "    }\n",
       "\n",
       "    .dataframe tbody tr th {\n",
       "        vertical-align: top;\n",
       "    }\n",
       "\n",
       "    .dataframe thead th {\n",
       "        text-align: right;\n",
       "    }\n",
       "</style>\n",
       "<table border=\"1\" class=\"dataframe\">\n",
       "  <thead>\n",
       "    <tr style=\"text-align: right;\">\n",
       "      <th></th>\n",
       "      <th>key</th>\n",
       "      <th>val_y</th>\n",
       "    </tr>\n",
       "  </thead>\n",
       "  <tbody>\n",
       "    <tr>\n",
       "      <th>0</th>\n",
       "      <td>1</td>\n",
       "      <td>y1</td>\n",
       "    </tr>\n",
       "    <tr>\n",
       "      <th>1</th>\n",
       "      <td>2</td>\n",
       "      <td>y2</td>\n",
       "    </tr>\n",
       "    <tr>\n",
       "      <th>2</th>\n",
       "      <td>4</td>\n",
       "      <td>y3</td>\n",
       "    </tr>\n",
       "  </tbody>\n",
       "</table>\n",
       "</div>"
      ],
      "text/plain": [
       "   key val_y\n",
       "0    1    y1\n",
       "1    2    y2\n",
       "2    4    y3"
      ]
     },
     "execution_count": 7,
     "metadata": {},
     "output_type": "execute_result"
    }
   ],
   "source": [
    "y"
   ]
  },
  {
   "cell_type": "markdown",
   "id": "champion-cornwall",
   "metadata": {},
   "source": [
    "An inner-join uses the **intersection** of the shared `key` values between the two DataFrames. Thus, the only rows remaining after the join operation are those that have the same `key` values appearing in **both** DataFrames. Which rows do you expect to see in the **joined** DataFrame between `x` and `y`?\n",
    "\n",
    "Let's see what happens. The cell below executes the `pd.merge()` function and explicitly defines the `how` argument as `'inner'`, even though it is the default choice. The key variable (column) is specified by the `on` argument within the `pd.merge()` function."
   ]
  },
  {
   "cell_type": "code",
   "execution_count": 11,
   "id": "offensive-black",
   "metadata": {},
   "outputs": [
    {
     "data": {
      "text/html": [
       "<div>\n",
       "<style scoped>\n",
       "    .dataframe tbody tr th:only-of-type {\n",
       "        vertical-align: middle;\n",
       "    }\n",
       "\n",
       "    .dataframe tbody tr th {\n",
       "        vertical-align: top;\n",
       "    }\n",
       "\n",
       "    .dataframe thead th {\n",
       "        text-align: right;\n",
       "    }\n",
       "</style>\n",
       "<table border=\"1\" class=\"dataframe\">\n",
       "  <thead>\n",
       "    <tr style=\"text-align: right;\">\n",
       "      <th></th>\n",
       "      <th>key</th>\n",
       "      <th>val_x</th>\n",
       "      <th>val_y</th>\n",
       "    </tr>\n",
       "  </thead>\n",
       "  <tbody>\n",
       "    <tr>\n",
       "      <th>0</th>\n",
       "      <td>1</td>\n",
       "      <td>x1</td>\n",
       "      <td>y1</td>\n",
       "    </tr>\n",
       "    <tr>\n",
       "      <th>1</th>\n",
       "      <td>2</td>\n",
       "      <td>x2</td>\n",
       "      <td>y2</td>\n",
       "    </tr>\n",
       "  </tbody>\n",
       "</table>\n",
       "</div>"
      ],
      "text/plain": [
       "   key val_x val_y\n",
       "0    1    x1    y1\n",
       "1    2    x2    y2"
      ]
     },
     "execution_count": 11,
     "metadata": {},
     "output_type": "execute_result"
    }
   ],
   "source": [
    "pd.merge( x, y, on='key', how='inner')"
   ]
  },
  {
   "cell_type": "markdown",
   "id": "supreme-baptist",
   "metadata": {},
   "source": [
    "As we can see above, there are only **two** remaining rows. The `key = 3` value in `x` does **not** appear in `y` and so it was removed. Likewise, the `key = 4` value in `y` does **not** appear in `x` and so was removed. \n",
    "\n",
    "Let's now see this again, but this time using the `.merge()` method on the `x` object. Again, the key variable (column) is specified by the `on` argument. The output is displayed to the screen and shows we have the same joined data set that we had with the `pd.merge()` function call."
   ]
  },
  {
   "cell_type": "code",
   "execution_count": 12,
   "id": "common-document",
   "metadata": {},
   "outputs": [
    {
     "data": {
      "text/html": [
       "<div>\n",
       "<style scoped>\n",
       "    .dataframe tbody tr th:only-of-type {\n",
       "        vertical-align: middle;\n",
       "    }\n",
       "\n",
       "    .dataframe tbody tr th {\n",
       "        vertical-align: top;\n",
       "    }\n",
       "\n",
       "    .dataframe thead th {\n",
       "        text-align: right;\n",
       "    }\n",
       "</style>\n",
       "<table border=\"1\" class=\"dataframe\">\n",
       "  <thead>\n",
       "    <tr style=\"text-align: right;\">\n",
       "      <th></th>\n",
       "      <th>key</th>\n",
       "      <th>val_x</th>\n",
       "      <th>val_y</th>\n",
       "    </tr>\n",
       "  </thead>\n",
       "  <tbody>\n",
       "    <tr>\n",
       "      <th>0</th>\n",
       "      <td>1</td>\n",
       "      <td>x1</td>\n",
       "      <td>y1</td>\n",
       "    </tr>\n",
       "    <tr>\n",
       "      <th>1</th>\n",
       "      <td>2</td>\n",
       "      <td>x2</td>\n",
       "      <td>y2</td>\n",
       "    </tr>\n",
       "  </tbody>\n",
       "</table>\n",
       "</div>"
      ],
      "text/plain": [
       "   key val_x val_y\n",
       "0    1    x1    y1\n",
       "1    2    x2    y2"
      ]
     },
     "execution_count": 12,
     "metadata": {},
     "output_type": "execute_result"
    }
   ],
   "source": [
    "x.merge( y, on='key', how='inner')"
   ]
  },
  {
   "cell_type": "markdown",
   "id": "broke-jefferson",
   "metadata": {},
   "source": [
    "### Left-join\n",
    "\n",
    "A left-join performs the join and keeps all rows in the **left** data set. Rows from the right data set are joined **only** if the `key` value is shared in the left data set. Because of this, if a `key` in the left data set **does not** appear in the right data set, the joined data set **contains missings**.\n",
    "\n",
    "Left-joins are my preferred way of joining two data sets, especially when I am just starting out with a data analysis project. I like to think of a left-join as merging a smaller DataFrame (the right data set) to a larger DataFrame (the left data set). Thus, I will typically refer to left-joins as \"merging a smaller object to a larger one\".\n",
    "\n",
    "Let's see how the left-join works with our simple example. The left-join keeps all rows in the left data set. We will treat `x` as the left object and so the remaining joined data set will have `key` values of `1`, `2`, and `3`. Thus, the `key = 4` row in the `y` data set will **not** be present in the final data set."
   ]
  },
  {
   "cell_type": "code",
   "execution_count": 13,
   "id": "surprising-louisiana",
   "metadata": {},
   "outputs": [
    {
     "data": {
      "text/html": [
       "<div>\n",
       "<style scoped>\n",
       "    .dataframe tbody tr th:only-of-type {\n",
       "        vertical-align: middle;\n",
       "    }\n",
       "\n",
       "    .dataframe tbody tr th {\n",
       "        vertical-align: top;\n",
       "    }\n",
       "\n",
       "    .dataframe thead th {\n",
       "        text-align: right;\n",
       "    }\n",
       "</style>\n",
       "<table border=\"1\" class=\"dataframe\">\n",
       "  <thead>\n",
       "    <tr style=\"text-align: right;\">\n",
       "      <th></th>\n",
       "      <th>key</th>\n",
       "      <th>val_x</th>\n",
       "      <th>val_y</th>\n",
       "    </tr>\n",
       "  </thead>\n",
       "  <tbody>\n",
       "    <tr>\n",
       "      <th>0</th>\n",
       "      <td>1</td>\n",
       "      <td>x1</td>\n",
       "      <td>y1</td>\n",
       "    </tr>\n",
       "    <tr>\n",
       "      <th>1</th>\n",
       "      <td>2</td>\n",
       "      <td>x2</td>\n",
       "      <td>y2</td>\n",
       "    </tr>\n",
       "    <tr>\n",
       "      <th>2</th>\n",
       "      <td>3</td>\n",
       "      <td>x3</td>\n",
       "      <td>NaN</td>\n",
       "    </tr>\n",
       "  </tbody>\n",
       "</table>\n",
       "</div>"
      ],
      "text/plain": [
       "   key val_x val_y\n",
       "0    1    x1    y1\n",
       "1    2    x2    y2\n",
       "2    3    x3   NaN"
      ]
     },
     "execution_count": 13,
     "metadata": {},
     "output_type": "execute_result"
    }
   ],
   "source": [
    "pd.merge( x, y, on='key', how='left')"
   ]
  },
  {
   "cell_type": "markdown",
   "id": "laden-delicious",
   "metadata": {},
   "source": [
    "The output DataFrame consists of 3 rows. We have all 3 observations from `x`, as we expected. Notice that the last row has a **missing** value for `val_y`. That is because `key = 3` does **not** exist in `y`. However, because we used a left-join the final DataFrame **must** contain a row for `key = 3`. Since no such observation exists in the right data set for that case, a missing value is recorded for the variables brought in from the right data set."
   ]
  },
  {
   "cell_type": "markdown",
   "id": "median-utilization",
   "metadata": {},
   "source": [
    "### Right-join\n",
    "\n",
    "Right-joins operate just like left-joins, except the final joined data set keeps all rows from the right data set. Let's perform this operation for our simple example."
   ]
  },
  {
   "cell_type": "code",
   "execution_count": 14,
   "id": "apparent-crest",
   "metadata": {},
   "outputs": [
    {
     "data": {
      "text/html": [
       "<div>\n",
       "<style scoped>\n",
       "    .dataframe tbody tr th:only-of-type {\n",
       "        vertical-align: middle;\n",
       "    }\n",
       "\n",
       "    .dataframe tbody tr th {\n",
       "        vertical-align: top;\n",
       "    }\n",
       "\n",
       "    .dataframe thead th {\n",
       "        text-align: right;\n",
       "    }\n",
       "</style>\n",
       "<table border=\"1\" class=\"dataframe\">\n",
       "  <thead>\n",
       "    <tr style=\"text-align: right;\">\n",
       "      <th></th>\n",
       "      <th>key</th>\n",
       "      <th>val_x</th>\n",
       "      <th>val_y</th>\n",
       "    </tr>\n",
       "  </thead>\n",
       "  <tbody>\n",
       "    <tr>\n",
       "      <th>0</th>\n",
       "      <td>1</td>\n",
       "      <td>x1</td>\n",
       "      <td>y1</td>\n",
       "    </tr>\n",
       "    <tr>\n",
       "      <th>1</th>\n",
       "      <td>2</td>\n",
       "      <td>x2</td>\n",
       "      <td>y2</td>\n",
       "    </tr>\n",
       "    <tr>\n",
       "      <th>2</th>\n",
       "      <td>4</td>\n",
       "      <td>NaN</td>\n",
       "      <td>y3</td>\n",
       "    </tr>\n",
       "  </tbody>\n",
       "</table>\n",
       "</div>"
      ],
      "text/plain": [
       "   key val_x val_y\n",
       "0    1    x1    y1\n",
       "1    2    x2    y2\n",
       "2    4   NaN    y3"
      ]
     },
     "execution_count": 14,
     "metadata": {},
     "output_type": "execute_result"
    }
   ],
   "source": [
    "pd.merge( x, y, on='key', how='right')"
   ]
  },
  {
   "cell_type": "markdown",
   "id": "danish-contractor",
   "metadata": {},
   "source": [
    "We have 3 rows in our merged DataFrame because `y` has 3 rows. Notice the `key` values are `1`, `2`, and `4` because those are `key` values contained in `y`. With a right-join, the `val_x` column now contains a missing because `key = 4` does **not** appear in the `x` DataFrame."
   ]
  },
  {
   "cell_type": "markdown",
   "id": "opposite-newspaper",
   "metadata": {},
   "source": [
    "### Full-join\n",
    "\n",
    "A full-join keeps all observations from **both** DataFrames. We should thus expect to see missing values whenever the key values in one data set do not appear in the other. The final merged data set will have as many rows as total unique values for the key variable(s) in both data sets. \n",
    "\n",
    "**How many rows do you expect a full-join data set will have for our simple example?**\n",
    "\n",
    "As a reminder, let's look at the `key` column from the two data sets."
   ]
  },
  {
   "cell_type": "code",
   "execution_count": 15,
   "id": "proprietary-replacement",
   "metadata": {},
   "outputs": [
    {
     "data": {
      "text/plain": [
       "0    1\n",
       "1    2\n",
       "2    3\n",
       "Name: key, dtype: int64"
      ]
     },
     "execution_count": 15,
     "metadata": {},
     "output_type": "execute_result"
    }
   ],
   "source": [
    "x.key"
   ]
  },
  {
   "cell_type": "code",
   "execution_count": 16,
   "id": "refined-darwin",
   "metadata": {},
   "outputs": [
    {
     "data": {
      "text/plain": [
       "0    1\n",
       "1    2\n",
       "2    4\n",
       "Name: key, dtype: int64"
      ]
     },
     "execution_count": 16,
     "metadata": {},
     "output_type": "execute_result"
    }
   ],
   "source": [
    "y.key"
   ]
  },
  {
   "cell_type": "markdown",
   "id": "opponent-abraham",
   "metadata": {},
   "source": [
    "How many unique values are there?\n",
    "\n",
    "A full join is specified in the `pd.merge()` function by setting the `how` argument to `'outer'`. Let's see what happens."
   ]
  },
  {
   "cell_type": "code",
   "execution_count": 17,
   "id": "sexual-limitation",
   "metadata": {},
   "outputs": [
    {
     "data": {
      "text/html": [
       "<div>\n",
       "<style scoped>\n",
       "    .dataframe tbody tr th:only-of-type {\n",
       "        vertical-align: middle;\n",
       "    }\n",
       "\n",
       "    .dataframe tbody tr th {\n",
       "        vertical-align: top;\n",
       "    }\n",
       "\n",
       "    .dataframe thead th {\n",
       "        text-align: right;\n",
       "    }\n",
       "</style>\n",
       "<table border=\"1\" class=\"dataframe\">\n",
       "  <thead>\n",
       "    <tr style=\"text-align: right;\">\n",
       "      <th></th>\n",
       "      <th>key</th>\n",
       "      <th>val_x</th>\n",
       "      <th>val_y</th>\n",
       "    </tr>\n",
       "  </thead>\n",
       "  <tbody>\n",
       "    <tr>\n",
       "      <th>0</th>\n",
       "      <td>1</td>\n",
       "      <td>x1</td>\n",
       "      <td>y1</td>\n",
       "    </tr>\n",
       "    <tr>\n",
       "      <th>1</th>\n",
       "      <td>2</td>\n",
       "      <td>x2</td>\n",
       "      <td>y2</td>\n",
       "    </tr>\n",
       "    <tr>\n",
       "      <th>2</th>\n",
       "      <td>3</td>\n",
       "      <td>x3</td>\n",
       "      <td>NaN</td>\n",
       "    </tr>\n",
       "    <tr>\n",
       "      <th>3</th>\n",
       "      <td>4</td>\n",
       "      <td>NaN</td>\n",
       "      <td>y3</td>\n",
       "    </tr>\n",
       "  </tbody>\n",
       "</table>\n",
       "</div>"
      ],
      "text/plain": [
       "   key val_x val_y\n",
       "0    1    x1    y1\n",
       "1    2    x2    y2\n",
       "2    3    x3   NaN\n",
       "3    4   NaN    y3"
      ]
     },
     "execution_count": 17,
     "metadata": {},
     "output_type": "execute_result"
    }
   ],
   "source": [
    "pd.merge( x, y, on='key', how='outer' )"
   ]
  },
  {
   "cell_type": "markdown",
   "id": "derived-dryer",
   "metadata": {},
   "source": [
    "As we can see above, the result consists of 4 rows. The `val_y` column contains a missing value for the `key = 3` row for the same reason we had a missing value in `val_y` in the left-join case. Likewise, the `val_x` column has a missing value for the `key = 4` row for the same reason we had a missing value in `val_x` in the right-join case. A full-outer join highlights that the merger is based on the **key variable(s)**. Simple vertical and horizontal concats could not replicate this combined DataFrame.\n",
    "\n",
    "The previous joins - inner, left, and right - are subsets of the full-join. The inner-join keeps rows that appear in both DataFrames. The left and right joins are themselves both outer joins because at least one DataFrame has all the rows kept. The full-join is the full-outer-join because all rows in both DataFrames are retained."
   ]
  },
  {
   "cell_type": "markdown",
   "id": "antique-switzerland",
   "metadata": {},
   "source": [
    "### Key variables\n",
    "\n",
    "The `pd.merge()` function specifies the **key variable(s)** with the `on` argument. With our simple example, we have a single key variable named `key`. That was why the previous code examples set `on='key'` in the `pd.merge()` function calls. Let's get some additional practice understanding the behavior of the key variable by walking through the [Duplicate keys section in the R4DS book](https://r4ds.had.co.nz/relational-data.html#join-matches) in Section 13.4.4.\n",
    "\n",
    "The cell below defines two new DataFrames, `xb` and `yb`. Both consist of a `key` column which defines each observation. The `xb` DataFrame contains the `val_x` variable and the `yb` DataFrame contains the `val_y` variable. Notice that the `xb` DataFrame has repeated or duplicated `key` values, while the `key` is unique in `yb`."
   ]
  },
  {
   "cell_type": "code",
   "execution_count": 18,
   "id": "efficient-shelf",
   "metadata": {},
   "outputs": [
    {
     "data": {
      "text/html": [
       "<div>\n",
       "<style scoped>\n",
       "    .dataframe tbody tr th:only-of-type {\n",
       "        vertical-align: middle;\n",
       "    }\n",
       "\n",
       "    .dataframe tbody tr th {\n",
       "        vertical-align: top;\n",
       "    }\n",
       "\n",
       "    .dataframe thead th {\n",
       "        text-align: right;\n",
       "    }\n",
       "</style>\n",
       "<table border=\"1\" class=\"dataframe\">\n",
       "  <thead>\n",
       "    <tr style=\"text-align: right;\">\n",
       "      <th></th>\n",
       "      <th>key</th>\n",
       "      <th>val_x</th>\n",
       "    </tr>\n",
       "  </thead>\n",
       "  <tbody>\n",
       "    <tr>\n",
       "      <th>0</th>\n",
       "      <td>1</td>\n",
       "      <td>x1</td>\n",
       "    </tr>\n",
       "    <tr>\n",
       "      <th>1</th>\n",
       "      <td>2</td>\n",
       "      <td>x2</td>\n",
       "    </tr>\n",
       "    <tr>\n",
       "      <th>2</th>\n",
       "      <td>2</td>\n",
       "      <td>x3</td>\n",
       "    </tr>\n",
       "    <tr>\n",
       "      <th>3</th>\n",
       "      <td>1</td>\n",
       "      <td>x4</td>\n",
       "    </tr>\n",
       "  </tbody>\n",
       "</table>\n",
       "</div>"
      ],
      "text/plain": [
       "   key val_x\n",
       "0    1    x1\n",
       "1    2    x2\n",
       "2    2    x3\n",
       "3    1    x4"
      ]
     },
     "execution_count": 18,
     "metadata": {},
     "output_type": "execute_result"
    }
   ],
   "source": [
    "xb = pd.DataFrame({'key': [1, 2, 2, 1], 'val_x': ['x1', 'x2', 'x3', 'x4']})\n",
    "\n",
    "xb"
   ]
  },
  {
   "cell_type": "code",
   "execution_count": 19,
   "id": "offensive-selling",
   "metadata": {},
   "outputs": [
    {
     "data": {
      "text/html": [
       "<div>\n",
       "<style scoped>\n",
       "    .dataframe tbody tr th:only-of-type {\n",
       "        vertical-align: middle;\n",
       "    }\n",
       "\n",
       "    .dataframe tbody tr th {\n",
       "        vertical-align: top;\n",
       "    }\n",
       "\n",
       "    .dataframe thead th {\n",
       "        text-align: right;\n",
       "    }\n",
       "</style>\n",
       "<table border=\"1\" class=\"dataframe\">\n",
       "  <thead>\n",
       "    <tr style=\"text-align: right;\">\n",
       "      <th></th>\n",
       "      <th>key</th>\n",
       "      <th>val_y</th>\n",
       "    </tr>\n",
       "  </thead>\n",
       "  <tbody>\n",
       "    <tr>\n",
       "      <th>0</th>\n",
       "      <td>1</td>\n",
       "      <td>y1</td>\n",
       "    </tr>\n",
       "    <tr>\n",
       "      <th>1</th>\n",
       "      <td>2</td>\n",
       "      <td>y2</td>\n",
       "    </tr>\n",
       "  </tbody>\n",
       "</table>\n",
       "</div>"
      ],
      "text/plain": [
       "   key val_y\n",
       "0    1    y1\n",
       "1    2    y2"
      ]
     },
     "execution_count": 19,
     "metadata": {},
     "output_type": "execute_result"
    }
   ],
   "source": [
    "yb = pd.DataFrame({'key': [1, 2], 'val_y': ['y1', 'y2']})\n",
    "\n",
    "yb"
   ]
  },
  {
   "cell_type": "markdown",
   "id": "bibliographic-fairy",
   "metadata": {},
   "source": [
    "What will happen if we join these two data sets? The `key` value is not unique to `xb`. **Will we get an error?**\n",
    "\n",
    "Let's execute a left-join and see what happens. We will join \"on\" the `key` column and so the `on` argument is set to `'key'` in the `pd.merge()` function call in the cell below."
   ]
  },
  {
   "cell_type": "code",
   "execution_count": 20,
   "id": "joint-scholarship",
   "metadata": {},
   "outputs": [
    {
     "data": {
      "text/html": [
       "<div>\n",
       "<style scoped>\n",
       "    .dataframe tbody tr th:only-of-type {\n",
       "        vertical-align: middle;\n",
       "    }\n",
       "\n",
       "    .dataframe tbody tr th {\n",
       "        vertical-align: top;\n",
       "    }\n",
       "\n",
       "    .dataframe thead th {\n",
       "        text-align: right;\n",
       "    }\n",
       "</style>\n",
       "<table border=\"1\" class=\"dataframe\">\n",
       "  <thead>\n",
       "    <tr style=\"text-align: right;\">\n",
       "      <th></th>\n",
       "      <th>key</th>\n",
       "      <th>val_x</th>\n",
       "      <th>val_y</th>\n",
       "    </tr>\n",
       "  </thead>\n",
       "  <tbody>\n",
       "    <tr>\n",
       "      <th>0</th>\n",
       "      <td>1</td>\n",
       "      <td>x1</td>\n",
       "      <td>y1</td>\n",
       "    </tr>\n",
       "    <tr>\n",
       "      <th>1</th>\n",
       "      <td>2</td>\n",
       "      <td>x2</td>\n",
       "      <td>y2</td>\n",
       "    </tr>\n",
       "    <tr>\n",
       "      <th>2</th>\n",
       "      <td>2</td>\n",
       "      <td>x3</td>\n",
       "      <td>y2</td>\n",
       "    </tr>\n",
       "    <tr>\n",
       "      <th>3</th>\n",
       "      <td>1</td>\n",
       "      <td>x4</td>\n",
       "      <td>y1</td>\n",
       "    </tr>\n",
       "  </tbody>\n",
       "</table>\n",
       "</div>"
      ],
      "text/plain": [
       "   key val_x val_y\n",
       "0    1    x1    y1\n",
       "1    2    x2    y2\n",
       "2    2    x3    y2\n",
       "3    1    x4    y1"
      ]
     },
     "execution_count": 20,
     "metadata": {},
     "output_type": "execute_result"
    }
   ],
   "source": [
    "pd.merge( xb, yb, on='key', how='left')"
   ]
  },
  {
   "cell_type": "markdown",
   "id": "billion-trauma",
   "metadata": {},
   "source": [
    "The join worked! To help understand what's going on, let's repeat the left-join and rearrange the columns of the final data set."
   ]
  },
  {
   "cell_type": "code",
   "execution_count": 21,
   "id": "negative-shepherd",
   "metadata": {},
   "outputs": [
    {
     "data": {
      "text/html": [
       "<div>\n",
       "<style scoped>\n",
       "    .dataframe tbody tr th:only-of-type {\n",
       "        vertical-align: middle;\n",
       "    }\n",
       "\n",
       "    .dataframe tbody tr th {\n",
       "        vertical-align: top;\n",
       "    }\n",
       "\n",
       "    .dataframe thead th {\n",
       "        text-align: right;\n",
       "    }\n",
       "</style>\n",
       "<table border=\"1\" class=\"dataframe\">\n",
       "  <thead>\n",
       "    <tr style=\"text-align: right;\">\n",
       "      <th></th>\n",
       "      <th>val_x</th>\n",
       "      <th>key</th>\n",
       "      <th>val_y</th>\n",
       "    </tr>\n",
       "  </thead>\n",
       "  <tbody>\n",
       "    <tr>\n",
       "      <th>0</th>\n",
       "      <td>x1</td>\n",
       "      <td>1</td>\n",
       "      <td>y1</td>\n",
       "    </tr>\n",
       "    <tr>\n",
       "      <th>1</th>\n",
       "      <td>x2</td>\n",
       "      <td>2</td>\n",
       "      <td>y2</td>\n",
       "    </tr>\n",
       "    <tr>\n",
       "      <th>2</th>\n",
       "      <td>x3</td>\n",
       "      <td>2</td>\n",
       "      <td>y2</td>\n",
       "    </tr>\n",
       "    <tr>\n",
       "      <th>3</th>\n",
       "      <td>x4</td>\n",
       "      <td>1</td>\n",
       "      <td>y1</td>\n",
       "    </tr>\n",
       "  </tbody>\n",
       "</table>\n",
       "</div>"
      ],
      "text/plain": [
       "  val_x  key val_y\n",
       "0    x1    1    y1\n",
       "1    x2    2    y2\n",
       "2    x3    2    y2\n",
       "3    x4    1    y1"
      ]
     },
     "execution_count": 21,
     "metadata": {},
     "output_type": "execute_result"
    }
   ],
   "source": [
    "pd.merge( xb, yb, on='key', how='left').loc[:, ['val_x', 'key', 'val_y']]"
   ]
  },
  {
   "cell_type": "markdown",
   "id": "fatal-storage",
   "metadata": {},
   "source": [
    "With the `key` column as the middle of the three columns in the joined data set, we can more easily see that `key` is defining one observation in the `y` data set. Our left-join was therefore aligning the `val_x` variable with the `val_y` variable based on `key`, even though `key` does **not** uniquely define one observation in `xb`. The `key` variable is therefore known as a **primary key** for the `yb` DataFrame, because it uniquely defines the row in `yb`. However, the `key` variable is a **foreign key** in the `xb` DataFrame because it uniquely defines an observation in a different DataFrame.  \n",
    "\n",
    "Primary and foreign keys are important **relational data model** concepts that we will return to time and time again. "
   ]
  },
  {
   "cell_type": "markdown",
   "id": "noticed-racing",
   "metadata": {},
   "source": [
    "The cell below defines creates two additional DataFrames, `xc` and `yc`. Both DataFrames have a `key` column, but notice the `key` values are duplicated in both DataFrames! The `key` variable therefore does not uniquely identify the rows in either DataFrame. The R4DS book states that this may represent an error. Alternatively, we can view the `key` variable as a primary key in some other DataFrame that is not available."
   ]
  },
  {
   "cell_type": "code",
   "execution_count": 22,
   "id": "former-biotechnology",
   "metadata": {},
   "outputs": [
    {
     "data": {
      "text/html": [
       "<div>\n",
       "<style scoped>\n",
       "    .dataframe tbody tr th:only-of-type {\n",
       "        vertical-align: middle;\n",
       "    }\n",
       "\n",
       "    .dataframe tbody tr th {\n",
       "        vertical-align: top;\n",
       "    }\n",
       "\n",
       "    .dataframe thead th {\n",
       "        text-align: right;\n",
       "    }\n",
       "</style>\n",
       "<table border=\"1\" class=\"dataframe\">\n",
       "  <thead>\n",
       "    <tr style=\"text-align: right;\">\n",
       "      <th></th>\n",
       "      <th>key</th>\n",
       "      <th>val_x</th>\n",
       "    </tr>\n",
       "  </thead>\n",
       "  <tbody>\n",
       "    <tr>\n",
       "      <th>0</th>\n",
       "      <td>1</td>\n",
       "      <td>x1</td>\n",
       "    </tr>\n",
       "    <tr>\n",
       "      <th>1</th>\n",
       "      <td>2</td>\n",
       "      <td>x2</td>\n",
       "    </tr>\n",
       "    <tr>\n",
       "      <th>2</th>\n",
       "      <td>2</td>\n",
       "      <td>x3</td>\n",
       "    </tr>\n",
       "    <tr>\n",
       "      <th>3</th>\n",
       "      <td>3</td>\n",
       "      <td>x4</td>\n",
       "    </tr>\n",
       "  </tbody>\n",
       "</table>\n",
       "</div>"
      ],
      "text/plain": [
       "   key val_x\n",
       "0    1    x1\n",
       "1    2    x2\n",
       "2    2    x3\n",
       "3    3    x4"
      ]
     },
     "execution_count": 22,
     "metadata": {},
     "output_type": "execute_result"
    }
   ],
   "source": [
    "xc = pd.DataFrame({'key': [1, 2, 2, 3], 'val_x': ['x1', 'x2', 'x3', 'x4']})\n",
    "\n",
    "xc"
   ]
  },
  {
   "cell_type": "code",
   "execution_count": 23,
   "id": "electoral-strap",
   "metadata": {},
   "outputs": [
    {
     "data": {
      "text/html": [
       "<div>\n",
       "<style scoped>\n",
       "    .dataframe tbody tr th:only-of-type {\n",
       "        vertical-align: middle;\n",
       "    }\n",
       "\n",
       "    .dataframe tbody tr th {\n",
       "        vertical-align: top;\n",
       "    }\n",
       "\n",
       "    .dataframe thead th {\n",
       "        text-align: right;\n",
       "    }\n",
       "</style>\n",
       "<table border=\"1\" class=\"dataframe\">\n",
       "  <thead>\n",
       "    <tr style=\"text-align: right;\">\n",
       "      <th></th>\n",
       "      <th>key</th>\n",
       "      <th>val_y</th>\n",
       "    </tr>\n",
       "  </thead>\n",
       "  <tbody>\n",
       "    <tr>\n",
       "      <th>0</th>\n",
       "      <td>1</td>\n",
       "      <td>y1</td>\n",
       "    </tr>\n",
       "    <tr>\n",
       "      <th>1</th>\n",
       "      <td>2</td>\n",
       "      <td>y2</td>\n",
       "    </tr>\n",
       "    <tr>\n",
       "      <th>2</th>\n",
       "      <td>2</td>\n",
       "      <td>y3</td>\n",
       "    </tr>\n",
       "    <tr>\n",
       "      <th>3</th>\n",
       "      <td>3</td>\n",
       "      <td>y4</td>\n",
       "    </tr>\n",
       "  </tbody>\n",
       "</table>\n",
       "</div>"
      ],
      "text/plain": [
       "   key val_y\n",
       "0    1    y1\n",
       "1    2    y2\n",
       "2    2    y3\n",
       "3    3    y4"
      ]
     },
     "execution_count": 23,
     "metadata": {},
     "output_type": "execute_result"
    }
   ],
   "source": [
    "yc = pd.DataFrame({'key': [1, 2, 2, 3], 'val_y': ['y1', 'y2', 'y3', 'y4']})\n",
    "\n",
    "yc"
   ]
  },
  {
   "cell_type": "markdown",
   "id": "nutritional-azerbaijan",
   "metadata": {},
   "source": [
    "Joining the `xc` and `yc` DataFrames `on` the `'key'` column produces all possible combinations of the rows in the two data sets. We have more rows than unique values for the `key` column because neither data set has the rows uniquely identified. The join procedure does not really \"know\" what to do, and so all possible ways the observations could be joined are provided."
   ]
  },
  {
   "cell_type": "code",
   "execution_count": 24,
   "id": "painted-finding",
   "metadata": {},
   "outputs": [
    {
     "data": {
      "text/html": [
       "<div>\n",
       "<style scoped>\n",
       "    .dataframe tbody tr th:only-of-type {\n",
       "        vertical-align: middle;\n",
       "    }\n",
       "\n",
       "    .dataframe tbody tr th {\n",
       "        vertical-align: top;\n",
       "    }\n",
       "\n",
       "    .dataframe thead th {\n",
       "        text-align: right;\n",
       "    }\n",
       "</style>\n",
       "<table border=\"1\" class=\"dataframe\">\n",
       "  <thead>\n",
       "    <tr style=\"text-align: right;\">\n",
       "      <th></th>\n",
       "      <th>key</th>\n",
       "      <th>val_x</th>\n",
       "      <th>val_y</th>\n",
       "    </tr>\n",
       "  </thead>\n",
       "  <tbody>\n",
       "    <tr>\n",
       "      <th>0</th>\n",
       "      <td>1</td>\n",
       "      <td>x1</td>\n",
       "      <td>y1</td>\n",
       "    </tr>\n",
       "    <tr>\n",
       "      <th>1</th>\n",
       "      <td>2</td>\n",
       "      <td>x2</td>\n",
       "      <td>y2</td>\n",
       "    </tr>\n",
       "    <tr>\n",
       "      <th>2</th>\n",
       "      <td>2</td>\n",
       "      <td>x2</td>\n",
       "      <td>y3</td>\n",
       "    </tr>\n",
       "    <tr>\n",
       "      <th>3</th>\n",
       "      <td>2</td>\n",
       "      <td>x3</td>\n",
       "      <td>y2</td>\n",
       "    </tr>\n",
       "    <tr>\n",
       "      <th>4</th>\n",
       "      <td>2</td>\n",
       "      <td>x3</td>\n",
       "      <td>y3</td>\n",
       "    </tr>\n",
       "    <tr>\n",
       "      <th>5</th>\n",
       "      <td>3</td>\n",
       "      <td>x4</td>\n",
       "      <td>y4</td>\n",
       "    </tr>\n",
       "  </tbody>\n",
       "</table>\n",
       "</div>"
      ],
      "text/plain": [
       "   key val_x val_y\n",
       "0    1    x1    y1\n",
       "1    2    x2    y2\n",
       "2    2    x2    y3\n",
       "3    2    x3    y2\n",
       "4    2    x3    y3\n",
       "5    3    x4    y4"
      ]
     },
     "execution_count": 24,
     "metadata": {},
     "output_type": "execute_result"
    }
   ],
   "source": [
    "pd.merge( xc, yc, on='key', how='left')"
   ]
  },
  {
   "cell_type": "markdown",
   "id": "future-egypt",
   "metadata": {},
   "source": [
    "### Context\n",
    "\n",
    "If you were in CMPINF 2100, you may remember that I mentioned I begin any Exploratory Data Analysis (EDA) by counting. I count the number of rows associated with different variables (columns) and combinations of variables. One of the reasons I do that is to identify and/or confirm the variables that **define** an observation. Understanding the **primary key(s)** is critical when we go about merging data sets, as you saw in these series of simple examples. We may be surprised when we join data sets when we do not know what uniquely defines a row. The last example with `xc` and `yc` revealed a joined data set with more rows than either originally contained. Although managable with this small example, imagine a moderate sized application where one data set has 1000 rows and another has 5000 rows. It may be difficult to understand what happened after the fact when we get surprised by the sizes of a joining operation.  \n",
    "\n",
    "For those reasons, it is critical to first check the number of rows associated with the key variable(s). With `xc` and `yc` we can easily confirm that there are more than 1 row associated with the `key = 2` value."
   ]
  },
  {
   "cell_type": "code",
   "execution_count": 25,
   "id": "necessary-rotation",
   "metadata": {},
   "outputs": [
    {
     "data": {
      "text/plain": [
       "2    2\n",
       "1    1\n",
       "3    1\n",
       "Name: key, dtype: int64"
      ]
     },
     "execution_count": 25,
     "metadata": {},
     "output_type": "execute_result"
    }
   ],
   "source": [
    "xc.key.value_counts()"
   ]
  },
  {
   "cell_type": "code",
   "execution_count": 26,
   "id": "weekly-short",
   "metadata": {},
   "outputs": [
    {
     "data": {
      "text/plain": [
       "2    2\n",
       "1    1\n",
       "3    1\n",
       "Name: key, dtype: int64"
      ]
     },
     "execution_count": 26,
     "metadata": {},
     "output_type": "execute_result"
    }
   ],
   "source": [
    "yc.key.value_counts()"
   ]
  },
  {
   "cell_type": "markdown",
   "id": "measured-fairy",
   "metadata": {},
   "source": [
    "If we check the number of rows associated with each value of `key` in the joined data set, we see the impact of the duplicated key values."
   ]
  },
  {
   "cell_type": "code",
   "execution_count": 27,
   "id": "pleasant-recruitment",
   "metadata": {},
   "outputs": [
    {
     "data": {
      "text/plain": [
       "2    4\n",
       "1    1\n",
       "3    1\n",
       "Name: key, dtype: int64"
      ]
     },
     "execution_count": 27,
     "metadata": {},
     "output_type": "execute_result"
    }
   ],
   "source": [
    "pd.merge( xc, yc, on='key', how='left' ).key.value_counts()"
   ]
  },
  {
   "cell_type": "markdown",
   "id": "ordered-talent",
   "metadata": {},
   "source": [
    "## Realistic example\n",
    "\n",
    "Let's practice joins using a subset of the nyc-flights data set discussed in R4DS. The cell below reads in three CSV files. The first is a data set consisting of flights from NYC during the summer 2013 (R4DS uses the complete version of this data set consisting of all months in 2013). The second is information about specific planes, and the third is a data set related to airlines. These three files are available for download on Canvas. Please download them and save them within the same local working directory as your Jupyter notebook to run the examples."
   ]
  },
  {
   "cell_type": "code",
   "execution_count": 29,
   "id": "vietnamese-lightweight",
   "metadata": {},
   "outputs": [],
   "source": [
    "flights2 = pd.read_csv( \"summer_flights.csv\" )\n",
    "\n",
    "planes = pd.read_csv( \"planes.csv\" )\n",
    "\n",
    "airlines = pd.read_csv( \"airlines.csv\" )"
   ]
  },
  {
   "cell_type": "markdown",
   "id": "vietnamese-tribute",
   "metadata": {},
   "source": [
    "### `flights2` data"
   ]
  },
  {
   "cell_type": "markdown",
   "id": "facial-equilibrium",
   "metadata": {},
   "source": [
    "Let's look at the `.info()` and the first few rows of the summer flights data set."
   ]
  },
  {
   "cell_type": "code",
   "execution_count": 30,
   "id": "actual-genesis",
   "metadata": {},
   "outputs": [
    {
     "name": "stdout",
     "output_type": "stream",
     "text": [
      "<class 'pandas.core.frame.DataFrame'>\n",
      "RangeIndex: 86995 entries, 0 to 86994\n",
      "Data columns (total 8 columns):\n",
      " #   Column   Non-Null Count  Dtype \n",
      "---  ------   --------------  ----- \n",
      " 0   year     86995 non-null  int64 \n",
      " 1   month    86995 non-null  int64 \n",
      " 2   day      86995 non-null  int64 \n",
      " 3   hour     86995 non-null  int64 \n",
      " 4   origin   86995 non-null  object\n",
      " 5   dest     86995 non-null  object\n",
      " 6   tailnum  86267 non-null  object\n",
      " 7   carrier  86995 non-null  object\n",
      "dtypes: int64(4), object(4)\n",
      "memory usage: 5.3+ MB\n"
     ]
    }
   ],
   "source": [
    "flights2.info()"
   ]
  },
  {
   "cell_type": "code",
   "execution_count": 31,
   "id": "obvious-bailey",
   "metadata": {},
   "outputs": [
    {
     "data": {
      "text/html": [
       "<div>\n",
       "<style scoped>\n",
       "    .dataframe tbody tr th:only-of-type {\n",
       "        vertical-align: middle;\n",
       "    }\n",
       "\n",
       "    .dataframe tbody tr th {\n",
       "        vertical-align: top;\n",
       "    }\n",
       "\n",
       "    .dataframe thead th {\n",
       "        text-align: right;\n",
       "    }\n",
       "</style>\n",
       "<table border=\"1\" class=\"dataframe\">\n",
       "  <thead>\n",
       "    <tr style=\"text-align: right;\">\n",
       "      <th></th>\n",
       "      <th>year</th>\n",
       "      <th>month</th>\n",
       "      <th>day</th>\n",
       "      <th>hour</th>\n",
       "      <th>origin</th>\n",
       "      <th>dest</th>\n",
       "      <th>tailnum</th>\n",
       "      <th>carrier</th>\n",
       "    </tr>\n",
       "  </thead>\n",
       "  <tbody>\n",
       "    <tr>\n",
       "      <th>0</th>\n",
       "      <td>2013</td>\n",
       "      <td>6</td>\n",
       "      <td>1</td>\n",
       "      <td>23</td>\n",
       "      <td>JFK</td>\n",
       "      <td>PSE</td>\n",
       "      <td>N618JB</td>\n",
       "      <td>B6</td>\n",
       "    </tr>\n",
       "    <tr>\n",
       "      <th>1</th>\n",
       "      <td>2013</td>\n",
       "      <td>6</td>\n",
       "      <td>1</td>\n",
       "      <td>5</td>\n",
       "      <td>EWR</td>\n",
       "      <td>CLT</td>\n",
       "      <td>N538UW</td>\n",
       "      <td>US</td>\n",
       "    </tr>\n",
       "    <tr>\n",
       "      <th>2</th>\n",
       "      <td>2013</td>\n",
       "      <td>6</td>\n",
       "      <td>1</td>\n",
       "      <td>5</td>\n",
       "      <td>EWR</td>\n",
       "      <td>IAH</td>\n",
       "      <td>N35407</td>\n",
       "      <td>UA</td>\n",
       "    </tr>\n",
       "    <tr>\n",
       "      <th>3</th>\n",
       "      <td>2013</td>\n",
       "      <td>6</td>\n",
       "      <td>1</td>\n",
       "      <td>5</td>\n",
       "      <td>LGA</td>\n",
       "      <td>IAH</td>\n",
       "      <td>N27724</td>\n",
       "      <td>UA</td>\n",
       "    </tr>\n",
       "    <tr>\n",
       "      <th>4</th>\n",
       "      <td>2013</td>\n",
       "      <td>6</td>\n",
       "      <td>1</td>\n",
       "      <td>5</td>\n",
       "      <td>JFK</td>\n",
       "      <td>BQN</td>\n",
       "      <td>N806JB</td>\n",
       "      <td>B6</td>\n",
       "    </tr>\n",
       "    <tr>\n",
       "      <th>5</th>\n",
       "      <td>2013</td>\n",
       "      <td>6</td>\n",
       "      <td>1</td>\n",
       "      <td>5</td>\n",
       "      <td>JFK</td>\n",
       "      <td>MIA</td>\n",
       "      <td>N5EAAA</td>\n",
       "      <td>AA</td>\n",
       "    </tr>\n",
       "    <tr>\n",
       "      <th>6</th>\n",
       "      <td>2013</td>\n",
       "      <td>6</td>\n",
       "      <td>1</td>\n",
       "      <td>6</td>\n",
       "      <td>EWR</td>\n",
       "      <td>RSW</td>\n",
       "      <td>N492UA</td>\n",
       "      <td>UA</td>\n",
       "    </tr>\n",
       "    <tr>\n",
       "      <th>7</th>\n",
       "      <td>2013</td>\n",
       "      <td>6</td>\n",
       "      <td>1</td>\n",
       "      <td>6</td>\n",
       "      <td>LGA</td>\n",
       "      <td>DFW</td>\n",
       "      <td>N3EUAA</td>\n",
       "      <td>AA</td>\n",
       "    </tr>\n",
       "    <tr>\n",
       "      <th>8</th>\n",
       "      <td>2013</td>\n",
       "      <td>6</td>\n",
       "      <td>1</td>\n",
       "      <td>6</td>\n",
       "      <td>LGA</td>\n",
       "      <td>PHL</td>\n",
       "      <td>N946UW</td>\n",
       "      <td>US</td>\n",
       "    </tr>\n",
       "    <tr>\n",
       "      <th>9</th>\n",
       "      <td>2013</td>\n",
       "      <td>6</td>\n",
       "      <td>1</td>\n",
       "      <td>6</td>\n",
       "      <td>JFK</td>\n",
       "      <td>IAD</td>\n",
       "      <td>N835AS</td>\n",
       "      <td>EV</td>\n",
       "    </tr>\n",
       "  </tbody>\n",
       "</table>\n",
       "</div>"
      ],
      "text/plain": [
       "   year  month  day  hour origin dest tailnum carrier\n",
       "0  2013      6    1    23    JFK  PSE  N618JB      B6\n",
       "1  2013      6    1     5    EWR  CLT  N538UW      US\n",
       "2  2013      6    1     5    EWR  IAH  N35407      UA\n",
       "3  2013      6    1     5    LGA  IAH  N27724      UA\n",
       "4  2013      6    1     5    JFK  BQN  N806JB      B6\n",
       "5  2013      6    1     5    JFK  MIA  N5EAAA      AA\n",
       "6  2013      6    1     6    EWR  RSW  N492UA      UA\n",
       "7  2013      6    1     6    LGA  DFW  N3EUAA      AA\n",
       "8  2013      6    1     6    LGA  PHL  N946UW      US\n",
       "9  2013      6    1     6    JFK  IAD  N835AS      EV"
      ]
     },
     "execution_count": 31,
     "metadata": {},
     "output_type": "execute_result"
    }
   ],
   "source": [
    "flights2.head(10)"
   ]
  },
  {
   "cell_type": "markdown",
   "id": "retired-colonial",
   "metadata": {},
   "source": [
    "As discussed in R4DS, we may be tempted to think that each `tailnum` has one unique flight per date (combination of `year`, `month`, `day`). However, that is not true! The cell below shows a simple way to identify the number of rows associated with each group using a combination of `.groupby()`, `.size()`, and `.value_counts()`. As we see below, there are 48665 unique date and `tailnum` combinations. However, there are 12274 date and `tailnum` combinations with two rows in `flights2`. Interestingly, there are 37 date and `tailnum` combinations with 5 rows!"
   ]
  },
  {
   "cell_type": "code",
   "execution_count": 32,
   "id": "municipal-rebound",
   "metadata": {},
   "outputs": [
    {
     "data": {
      "text/plain": [
       "1    48665\n",
       "2    12274\n",
       "3     3083\n",
       "4      905\n",
       "5       37\n",
       "Name: num_rows, dtype: int64"
      ]
     },
     "execution_count": 32,
     "metadata": {},
     "output_type": "execute_result"
    }
   ],
   "source": [
    "flights2.groupby(['year', 'month', 'day', 'tailnum']).size().\\\n",
    "reset_index(name='num_rows').\\\n",
    "num_rows.value_counts()"
   ]
  },
  {
   "cell_type": "markdown",
   "id": "numeric-badge",
   "metadata": {},
   "source": [
    "Let's see a few of the date and `tailnum` combinations are associated with 5 rows."
   ]
  },
  {
   "cell_type": "code",
   "execution_count": 33,
   "id": "appointed-start",
   "metadata": {},
   "outputs": [
    {
     "data": {
      "text/html": [
       "<div>\n",
       "<style scoped>\n",
       "    .dataframe tbody tr th:only-of-type {\n",
       "        vertical-align: middle;\n",
       "    }\n",
       "\n",
       "    .dataframe tbody tr th {\n",
       "        vertical-align: top;\n",
       "    }\n",
       "\n",
       "    .dataframe thead th {\n",
       "        text-align: right;\n",
       "    }\n",
       "</style>\n",
       "<table border=\"1\" class=\"dataframe\">\n",
       "  <thead>\n",
       "    <tr style=\"text-align: right;\">\n",
       "      <th></th>\n",
       "      <th>year</th>\n",
       "      <th>month</th>\n",
       "      <th>day</th>\n",
       "      <th>tailnum</th>\n",
       "      <th>num_rows</th>\n",
       "    </tr>\n",
       "  </thead>\n",
       "  <tbody>\n",
       "    <tr>\n",
       "      <th>29546</th>\n",
       "      <td>2013</td>\n",
       "      <td>7</td>\n",
       "      <td>13</td>\n",
       "      <td>N368JB</td>\n",
       "      <td>5</td>\n",
       "    </tr>\n",
       "    <tr>\n",
       "      <th>40884</th>\n",
       "      <td>2013</td>\n",
       "      <td>7</td>\n",
       "      <td>29</td>\n",
       "      <td>N329JB</td>\n",
       "      <td>5</td>\n",
       "    </tr>\n",
       "    <tr>\n",
       "      <th>37362</th>\n",
       "      <td>2013</td>\n",
       "      <td>7</td>\n",
       "      <td>24</td>\n",
       "      <td>N346JB</td>\n",
       "      <td>5</td>\n",
       "    </tr>\n",
       "    <tr>\n",
       "      <th>11951</th>\n",
       "      <td>2013</td>\n",
       "      <td>6</td>\n",
       "      <td>18</td>\n",
       "      <td>N16961</td>\n",
       "      <td>5</td>\n",
       "    </tr>\n",
       "    <tr>\n",
       "      <th>25255</th>\n",
       "      <td>2013</td>\n",
       "      <td>7</td>\n",
       "      <td>7</td>\n",
       "      <td>N374JB</td>\n",
       "      <td>5</td>\n",
       "    </tr>\n",
       "  </tbody>\n",
       "</table>\n",
       "</div>"
      ],
      "text/plain": [
       "       year  month  day tailnum  num_rows\n",
       "29546  2013      7   13  N368JB         5\n",
       "40884  2013      7   29  N329JB         5\n",
       "37362  2013      7   24  N346JB         5\n",
       "11951  2013      6   18  N16961         5\n",
       "25255  2013      7    7  N374JB         5"
      ]
     },
     "execution_count": 33,
     "metadata": {},
     "output_type": "execute_result"
    }
   ],
   "source": [
    "flights2.groupby(['year', 'month', 'day', 'tailnum']).size().\\\n",
    "reset_index(name='num_rows').\\\n",
    "sort_values(['num_rows'], ascending=False).head()"
   ]
  },
  {
   "cell_type": "markdown",
   "id": "instrumental-counter",
   "metadata": {},
   "source": [
    "As a final check, the cell below selects the rows associated with one date and `tailnum` combination that appears 5 times in `flights2`."
   ]
  },
  {
   "cell_type": "code",
   "execution_count": 34,
   "id": "pointed-parks",
   "metadata": {},
   "outputs": [
    {
     "data": {
      "text/html": [
       "<div>\n",
       "<style scoped>\n",
       "    .dataframe tbody tr th:only-of-type {\n",
       "        vertical-align: middle;\n",
       "    }\n",
       "\n",
       "    .dataframe tbody tr th {\n",
       "        vertical-align: top;\n",
       "    }\n",
       "\n",
       "    .dataframe thead th {\n",
       "        text-align: right;\n",
       "    }\n",
       "</style>\n",
       "<table border=\"1\" class=\"dataframe\">\n",
       "  <thead>\n",
       "    <tr style=\"text-align: right;\">\n",
       "      <th></th>\n",
       "      <th>year</th>\n",
       "      <th>month</th>\n",
       "      <th>day</th>\n",
       "      <th>hour</th>\n",
       "      <th>origin</th>\n",
       "      <th>dest</th>\n",
       "      <th>tailnum</th>\n",
       "      <th>carrier</th>\n",
       "    </tr>\n",
       "  </thead>\n",
       "  <tbody>\n",
       "    <tr>\n",
       "      <th>39526</th>\n",
       "      <td>2013</td>\n",
       "      <td>7</td>\n",
       "      <td>13</td>\n",
       "      <td>6</td>\n",
       "      <td>JFK</td>\n",
       "      <td>BUF</td>\n",
       "      <td>N368JB</td>\n",
       "      <td>B6</td>\n",
       "    </tr>\n",
       "    <tr>\n",
       "      <th>39708</th>\n",
       "      <td>2013</td>\n",
       "      <td>7</td>\n",
       "      <td>13</td>\n",
       "      <td>10</td>\n",
       "      <td>JFK</td>\n",
       "      <td>BOS</td>\n",
       "      <td>N368JB</td>\n",
       "      <td>B6</td>\n",
       "    </tr>\n",
       "    <tr>\n",
       "      <th>39872</th>\n",
       "      <td>2013</td>\n",
       "      <td>7</td>\n",
       "      <td>13</td>\n",
       "      <td>13</td>\n",
       "      <td>JFK</td>\n",
       "      <td>MVY</td>\n",
       "      <td>N368JB</td>\n",
       "      <td>B6</td>\n",
       "    </tr>\n",
       "    <tr>\n",
       "      <th>40055</th>\n",
       "      <td>2013</td>\n",
       "      <td>7</td>\n",
       "      <td>13</td>\n",
       "      <td>17</td>\n",
       "      <td>JFK</td>\n",
       "      <td>PWM</td>\n",
       "      <td>N368JB</td>\n",
       "      <td>B6</td>\n",
       "    </tr>\n",
       "    <tr>\n",
       "      <th>40224</th>\n",
       "      <td>2013</td>\n",
       "      <td>7</td>\n",
       "      <td>13</td>\n",
       "      <td>21</td>\n",
       "      <td>JFK</td>\n",
       "      <td>MSY</td>\n",
       "      <td>N368JB</td>\n",
       "      <td>B6</td>\n",
       "    </tr>\n",
       "  </tbody>\n",
       "</table>\n",
       "</div>"
      ],
      "text/plain": [
       "       year  month  day  hour origin dest tailnum carrier\n",
       "39526  2013      7   13     6    JFK  BUF  N368JB      B6\n",
       "39708  2013      7   13    10    JFK  BOS  N368JB      B6\n",
       "39872  2013      7   13    13    JFK  MVY  N368JB      B6\n",
       "40055  2013      7   13    17    JFK  PWM  N368JB      B6\n",
       "40224  2013      7   13    21    JFK  MSY  N368JB      B6"
      ]
     },
     "execution_count": 34,
     "metadata": {},
     "output_type": "execute_result"
    }
   ],
   "source": [
    "flights2.loc[ (flights2.month == 7) & (flights2.day == 13) & (flights2.tailnum == \"N368JB\") ]"
   ]
  },
  {
   "cell_type": "markdown",
   "id": "found-topic",
   "metadata": {},
   "source": [
    "As we can see above, the `hour` variable is different for all 5 rows. It appears that particular plane has multiple flights each day throughout New England and the East Coast. So maybe each observation in the `flights2` is uniquely defined as the `year`, `month`, `day`, and `hour` associated with a particular `tailnum`. Let's check."
   ]
  },
  {
   "cell_type": "code",
   "execution_count": 35,
   "id": "furnished-freeze",
   "metadata": {},
   "outputs": [
    {
     "data": {
      "text/plain": [
       "1    86060\n",
       "2      102\n",
       "3        1\n",
       "Name: num_rows, dtype: int64"
      ]
     },
     "execution_count": 35,
     "metadata": {},
     "output_type": "execute_result"
    }
   ],
   "source": [
    "flights2.groupby(['year', 'month', 'day', 'hour', 'tailnum']).size().\\\n",
    "reset_index(name='num_rows').\\\n",
    "num_rows.value_counts()"
   ]
  },
  {
   "cell_type": "markdown",
   "id": "separated-feature",
   "metadata": {},
   "source": [
    "We're close, but there are still 102 `year`, `month`, `day`, `hour`, and `tailnum` combinations that appear twice in `flights2`. There is even 1 particular combination of the variables that appears 3 times in `flights2`. Let's see which combination of the variables that corresponds to."
   ]
  },
  {
   "cell_type": "code",
   "execution_count": 36,
   "id": "specific-african",
   "metadata": {},
   "outputs": [
    {
     "data": {
      "text/html": [
       "<div>\n",
       "<style scoped>\n",
       "    .dataframe tbody tr th:only-of-type {\n",
       "        vertical-align: middle;\n",
       "    }\n",
       "\n",
       "    .dataframe tbody tr th {\n",
       "        vertical-align: top;\n",
       "    }\n",
       "\n",
       "    .dataframe thead th {\n",
       "        text-align: right;\n",
       "    }\n",
       "</style>\n",
       "<table border=\"1\" class=\"dataframe\">\n",
       "  <thead>\n",
       "    <tr style=\"text-align: right;\">\n",
       "      <th></th>\n",
       "      <th>year</th>\n",
       "      <th>month</th>\n",
       "      <th>day</th>\n",
       "      <th>hour</th>\n",
       "      <th>tailnum</th>\n",
       "      <th>num_rows</th>\n",
       "    </tr>\n",
       "  </thead>\n",
       "  <tbody>\n",
       "    <tr>\n",
       "      <th>37038</th>\n",
       "      <td>2013</td>\n",
       "      <td>7</td>\n",
       "      <td>11</td>\n",
       "      <td>6</td>\n",
       "      <td>N607JB</td>\n",
       "      <td>3</td>\n",
       "    </tr>\n",
       "    <tr>\n",
       "      <th>33343</th>\n",
       "      <td>2013</td>\n",
       "      <td>7</td>\n",
       "      <td>7</td>\n",
       "      <td>9</td>\n",
       "      <td>N723TW</td>\n",
       "      <td>2</td>\n",
       "    </tr>\n",
       "    <tr>\n",
       "      <th>30392</th>\n",
       "      <td>2013</td>\n",
       "      <td>7</td>\n",
       "      <td>3</td>\n",
       "      <td>15</td>\n",
       "      <td>N724MQ</td>\n",
       "      <td>2</td>\n",
       "    </tr>\n",
       "    <tr>\n",
       "      <th>37074</th>\n",
       "      <td>2013</td>\n",
       "      <td>7</td>\n",
       "      <td>11</td>\n",
       "      <td>7</td>\n",
       "      <td>N318JB</td>\n",
       "      <td>2</td>\n",
       "    </tr>\n",
       "    <tr>\n",
       "      <th>25340</th>\n",
       "      <td>2013</td>\n",
       "      <td>6</td>\n",
       "      <td>28</td>\n",
       "      <td>6</td>\n",
       "      <td>N877AS</td>\n",
       "      <td>2</td>\n",
       "    </tr>\n",
       "  </tbody>\n",
       "</table>\n",
       "</div>"
      ],
      "text/plain": [
       "       year  month  day  hour tailnum  num_rows\n",
       "37038  2013      7   11     6  N607JB         3\n",
       "33343  2013      7    7     9  N723TW         2\n",
       "30392  2013      7    3    15  N724MQ         2\n",
       "37074  2013      7   11     7  N318JB         2\n",
       "25340  2013      6   28     6  N877AS         2"
      ]
     },
     "execution_count": 36,
     "metadata": {},
     "output_type": "execute_result"
    }
   ],
   "source": [
    "flights2.groupby(['year', 'month', 'day', 'hour', 'tailnum']).size().\\\n",
    "reset_index(name='num_rows').\\\n",
    "sort_values(['num_rows'], ascending=False).head()"
   ]
  },
  {
   "cell_type": "markdown",
   "id": "fitted-watson",
   "metadata": {},
   "source": [
    "The cell below selects the rows associated with the `year`, `month`, `day`, `hour` and `tailnum` combination with 3 rows in the original data set. As we can see below, those values do appear in 3 separate rows (as illustrated by the different `.index` values). **Is there a variable (column) that changes across the rows displayed below?**"
   ]
  },
  {
   "cell_type": "code",
   "execution_count": 37,
   "id": "ancient-container",
   "metadata": {},
   "outputs": [
    {
     "data": {
      "text/html": [
       "<div>\n",
       "<style scoped>\n",
       "    .dataframe tbody tr th:only-of-type {\n",
       "        vertical-align: middle;\n",
       "    }\n",
       "\n",
       "    .dataframe tbody tr th {\n",
       "        vertical-align: top;\n",
       "    }\n",
       "\n",
       "    .dataframe thead th {\n",
       "        text-align: right;\n",
       "    }\n",
       "</style>\n",
       "<table border=\"1\" class=\"dataframe\">\n",
       "  <thead>\n",
       "    <tr style=\"text-align: right;\">\n",
       "      <th></th>\n",
       "      <th>year</th>\n",
       "      <th>month</th>\n",
       "      <th>day</th>\n",
       "      <th>hour</th>\n",
       "      <th>origin</th>\n",
       "      <th>dest</th>\n",
       "      <th>tailnum</th>\n",
       "      <th>carrier</th>\n",
       "    </tr>\n",
       "  </thead>\n",
       "  <tbody>\n",
       "    <tr>\n",
       "      <th>37515</th>\n",
       "      <td>2013</td>\n",
       "      <td>7</td>\n",
       "      <td>11</td>\n",
       "      <td>6</td>\n",
       "      <td>JFK</td>\n",
       "      <td>TPA</td>\n",
       "      <td>N607JB</td>\n",
       "      <td>B6</td>\n",
       "    </tr>\n",
       "    <tr>\n",
       "      <th>38431</th>\n",
       "      <td>2013</td>\n",
       "      <td>7</td>\n",
       "      <td>11</td>\n",
       "      <td>6</td>\n",
       "      <td>JFK</td>\n",
       "      <td>MCO</td>\n",
       "      <td>N607JB</td>\n",
       "      <td>B6</td>\n",
       "    </tr>\n",
       "    <tr>\n",
       "      <th>38432</th>\n",
       "      <td>2013</td>\n",
       "      <td>7</td>\n",
       "      <td>11</td>\n",
       "      <td>6</td>\n",
       "      <td>JFK</td>\n",
       "      <td>FLL</td>\n",
       "      <td>N607JB</td>\n",
       "      <td>B6</td>\n",
       "    </tr>\n",
       "  </tbody>\n",
       "</table>\n",
       "</div>"
      ],
      "text/plain": [
       "       year  month  day  hour origin dest tailnum carrier\n",
       "37515  2013      7   11     6    JFK  TPA  N607JB      B6\n",
       "38431  2013      7   11     6    JFK  MCO  N607JB      B6\n",
       "38432  2013      7   11     6    JFK  FLL  N607JB      B6"
      ]
     },
     "execution_count": 37,
     "metadata": {},
     "output_type": "execute_result"
    }
   ],
   "source": [
    "flights2.loc[ (flights2.month == 7) & (flights2.day == 11) & (flights2.hour == 6) & (flights2.tailnum == \"N607JB\") ]"
   ]
  },
  {
   "cell_type": "markdown",
   "id": "demographic-wesley",
   "metadata": {},
   "source": [
    "The `dest` column has three separate values! So it seems like we need to include `dest` within our collection of variables that uniquely define a row. Let's check this is indeed the case."
   ]
  },
  {
   "cell_type": "code",
   "execution_count": 38,
   "id": "charming-birthday",
   "metadata": {},
   "outputs": [
    {
     "data": {
      "text/plain": [
       "1    86267\n",
       "Name: num_rows, dtype: int64"
      ]
     },
     "execution_count": 38,
     "metadata": {},
     "output_type": "execute_result"
    }
   ],
   "source": [
    "flights2.groupby(['year', 'month', 'day', 'hour', 'origin', 'dest', 'tailnum']).size().\\\n",
    "reset_index(name='num_rows').\\\n",
    "num_rows.value_counts()"
   ]
  },
  {
   "cell_type": "markdown",
   "id": "organic-israel",
   "metadata": {},
   "source": [
    "As we can see above, we have identified what one row represents. One row, or observation, is a `tailnum` between an `origin` and `dest` on a given `year`, `month`, `day`, and `hour`. The **primary key** is thus a **composite** of 7 variables!"
   ]
  },
  {
   "cell_type": "markdown",
   "id": "reflected-flower",
   "metadata": {},
   "source": [
    "### `planes` data"
   ]
  },
  {
   "cell_type": "markdown",
   "id": "collectible-sociology",
   "metadata": {},
   "source": [
    "Let's now identify one row in the `planes` DataFrame. We will start by looking at the `.info()` and `.head()`."
   ]
  },
  {
   "cell_type": "code",
   "execution_count": 39,
   "id": "narrow-david",
   "metadata": {},
   "outputs": [
    {
     "name": "stdout",
     "output_type": "stream",
     "text": [
      "<class 'pandas.core.frame.DataFrame'>\n",
      "RangeIndex: 3322 entries, 0 to 3321\n",
      "Data columns (total 9 columns):\n",
      " #   Column        Non-Null Count  Dtype  \n",
      "---  ------        --------------  -----  \n",
      " 0   tailnum       3322 non-null   object \n",
      " 1   year          3252 non-null   float64\n",
      " 2   type          3322 non-null   object \n",
      " 3   manufacturer  3322 non-null   object \n",
      " 4   model         3322 non-null   object \n",
      " 5   engines       3322 non-null   int64  \n",
      " 6   seats         3322 non-null   int64  \n",
      " 7   speed         23 non-null     float64\n",
      " 8   engine        3322 non-null   object \n",
      "dtypes: float64(2), int64(2), object(5)\n",
      "memory usage: 233.7+ KB\n"
     ]
    }
   ],
   "source": [
    "planes.info()"
   ]
  },
  {
   "cell_type": "code",
   "execution_count": 40,
   "id": "forty-mileage",
   "metadata": {},
   "outputs": [
    {
     "data": {
      "text/html": [
       "<div>\n",
       "<style scoped>\n",
       "    .dataframe tbody tr th:only-of-type {\n",
       "        vertical-align: middle;\n",
       "    }\n",
       "\n",
       "    .dataframe tbody tr th {\n",
       "        vertical-align: top;\n",
       "    }\n",
       "\n",
       "    .dataframe thead th {\n",
       "        text-align: right;\n",
       "    }\n",
       "</style>\n",
       "<table border=\"1\" class=\"dataframe\">\n",
       "  <thead>\n",
       "    <tr style=\"text-align: right;\">\n",
       "      <th></th>\n",
       "      <th>tailnum</th>\n",
       "      <th>year</th>\n",
       "      <th>type</th>\n",
       "      <th>manufacturer</th>\n",
       "      <th>model</th>\n",
       "      <th>engines</th>\n",
       "      <th>seats</th>\n",
       "      <th>speed</th>\n",
       "      <th>engine</th>\n",
       "    </tr>\n",
       "  </thead>\n",
       "  <tbody>\n",
       "    <tr>\n",
       "      <th>0</th>\n",
       "      <td>N10156</td>\n",
       "      <td>2004.0</td>\n",
       "      <td>Fixed wing multi engine</td>\n",
       "      <td>EMBRAER</td>\n",
       "      <td>EMB-145XR</td>\n",
       "      <td>2</td>\n",
       "      <td>55</td>\n",
       "      <td>NaN</td>\n",
       "      <td>Turbo-fan</td>\n",
       "    </tr>\n",
       "    <tr>\n",
       "      <th>1</th>\n",
       "      <td>N102UW</td>\n",
       "      <td>1998.0</td>\n",
       "      <td>Fixed wing multi engine</td>\n",
       "      <td>AIRBUS INDUSTRIE</td>\n",
       "      <td>A320-214</td>\n",
       "      <td>2</td>\n",
       "      <td>182</td>\n",
       "      <td>NaN</td>\n",
       "      <td>Turbo-fan</td>\n",
       "    </tr>\n",
       "    <tr>\n",
       "      <th>2</th>\n",
       "      <td>N103US</td>\n",
       "      <td>1999.0</td>\n",
       "      <td>Fixed wing multi engine</td>\n",
       "      <td>AIRBUS INDUSTRIE</td>\n",
       "      <td>A320-214</td>\n",
       "      <td>2</td>\n",
       "      <td>182</td>\n",
       "      <td>NaN</td>\n",
       "      <td>Turbo-fan</td>\n",
       "    </tr>\n",
       "    <tr>\n",
       "      <th>3</th>\n",
       "      <td>N104UW</td>\n",
       "      <td>1999.0</td>\n",
       "      <td>Fixed wing multi engine</td>\n",
       "      <td>AIRBUS INDUSTRIE</td>\n",
       "      <td>A320-214</td>\n",
       "      <td>2</td>\n",
       "      <td>182</td>\n",
       "      <td>NaN</td>\n",
       "      <td>Turbo-fan</td>\n",
       "    </tr>\n",
       "    <tr>\n",
       "      <th>4</th>\n",
       "      <td>N10575</td>\n",
       "      <td>2002.0</td>\n",
       "      <td>Fixed wing multi engine</td>\n",
       "      <td>EMBRAER</td>\n",
       "      <td>EMB-145LR</td>\n",
       "      <td>2</td>\n",
       "      <td>55</td>\n",
       "      <td>NaN</td>\n",
       "      <td>Turbo-fan</td>\n",
       "    </tr>\n",
       "    <tr>\n",
       "      <th>5</th>\n",
       "      <td>N105UW</td>\n",
       "      <td>1999.0</td>\n",
       "      <td>Fixed wing multi engine</td>\n",
       "      <td>AIRBUS INDUSTRIE</td>\n",
       "      <td>A320-214</td>\n",
       "      <td>2</td>\n",
       "      <td>182</td>\n",
       "      <td>NaN</td>\n",
       "      <td>Turbo-fan</td>\n",
       "    </tr>\n",
       "    <tr>\n",
       "      <th>6</th>\n",
       "      <td>N107US</td>\n",
       "      <td>1999.0</td>\n",
       "      <td>Fixed wing multi engine</td>\n",
       "      <td>AIRBUS INDUSTRIE</td>\n",
       "      <td>A320-214</td>\n",
       "      <td>2</td>\n",
       "      <td>182</td>\n",
       "      <td>NaN</td>\n",
       "      <td>Turbo-fan</td>\n",
       "    </tr>\n",
       "    <tr>\n",
       "      <th>7</th>\n",
       "      <td>N108UW</td>\n",
       "      <td>1999.0</td>\n",
       "      <td>Fixed wing multi engine</td>\n",
       "      <td>AIRBUS INDUSTRIE</td>\n",
       "      <td>A320-214</td>\n",
       "      <td>2</td>\n",
       "      <td>182</td>\n",
       "      <td>NaN</td>\n",
       "      <td>Turbo-fan</td>\n",
       "    </tr>\n",
       "    <tr>\n",
       "      <th>8</th>\n",
       "      <td>N109UW</td>\n",
       "      <td>1999.0</td>\n",
       "      <td>Fixed wing multi engine</td>\n",
       "      <td>AIRBUS INDUSTRIE</td>\n",
       "      <td>A320-214</td>\n",
       "      <td>2</td>\n",
       "      <td>182</td>\n",
       "      <td>NaN</td>\n",
       "      <td>Turbo-fan</td>\n",
       "    </tr>\n",
       "    <tr>\n",
       "      <th>9</th>\n",
       "      <td>N110UW</td>\n",
       "      <td>1999.0</td>\n",
       "      <td>Fixed wing multi engine</td>\n",
       "      <td>AIRBUS INDUSTRIE</td>\n",
       "      <td>A320-214</td>\n",
       "      <td>2</td>\n",
       "      <td>182</td>\n",
       "      <td>NaN</td>\n",
       "      <td>Turbo-fan</td>\n",
       "    </tr>\n",
       "  </tbody>\n",
       "</table>\n",
       "</div>"
      ],
      "text/plain": [
       "  tailnum    year                     type      manufacturer      model  \\\n",
       "0  N10156  2004.0  Fixed wing multi engine           EMBRAER  EMB-145XR   \n",
       "1  N102UW  1998.0  Fixed wing multi engine  AIRBUS INDUSTRIE   A320-214   \n",
       "2  N103US  1999.0  Fixed wing multi engine  AIRBUS INDUSTRIE   A320-214   \n",
       "3  N104UW  1999.0  Fixed wing multi engine  AIRBUS INDUSTRIE   A320-214   \n",
       "4  N10575  2002.0  Fixed wing multi engine           EMBRAER  EMB-145LR   \n",
       "5  N105UW  1999.0  Fixed wing multi engine  AIRBUS INDUSTRIE   A320-214   \n",
       "6  N107US  1999.0  Fixed wing multi engine  AIRBUS INDUSTRIE   A320-214   \n",
       "7  N108UW  1999.0  Fixed wing multi engine  AIRBUS INDUSTRIE   A320-214   \n",
       "8  N109UW  1999.0  Fixed wing multi engine  AIRBUS INDUSTRIE   A320-214   \n",
       "9  N110UW  1999.0  Fixed wing multi engine  AIRBUS INDUSTRIE   A320-214   \n",
       "\n",
       "   engines  seats  speed     engine  \n",
       "0        2     55    NaN  Turbo-fan  \n",
       "1        2    182    NaN  Turbo-fan  \n",
       "2        2    182    NaN  Turbo-fan  \n",
       "3        2    182    NaN  Turbo-fan  \n",
       "4        2     55    NaN  Turbo-fan  \n",
       "5        2    182    NaN  Turbo-fan  \n",
       "6        2    182    NaN  Turbo-fan  \n",
       "7        2    182    NaN  Turbo-fan  \n",
       "8        2    182    NaN  Turbo-fan  \n",
       "9        2    182    NaN  Turbo-fan  "
      ]
     },
     "execution_count": 40,
     "metadata": {},
     "output_type": "execute_result"
    }
   ],
   "source": [
    "planes.head(10)"
   ]
  },
  {
   "cell_type": "markdown",
   "id": "invalid-concentration",
   "metadata": {},
   "source": [
    "Let's check if the `tailnum` uniquely defines one observation."
   ]
  },
  {
   "cell_type": "code",
   "execution_count": 41,
   "id": "removable-guest",
   "metadata": {},
   "outputs": [
    {
     "data": {
      "text/plain": [
       "1    3322\n",
       "Name: num_rows, dtype: int64"
      ]
     },
     "execution_count": 41,
     "metadata": {},
     "output_type": "execute_result"
    }
   ],
   "source": [
    "planes.groupby(['tailnum']).size().reset_index(name='num_rows').num_rows.value_counts()"
   ]
  },
  {
   "cell_type": "markdown",
   "id": "fifty-columbia",
   "metadata": {},
   "source": [
    "Yes! One row corresponds to a value of `tailnum`. Thus, `tailnum` is the **primary key** of `planes`. This also means that `tailnum` is a **foreign key** within `flights2`. It allows us to *link* or **relate** to information contained in another data set."
   ]
  },
  {
   "cell_type": "markdown",
   "id": "breathing-bridges",
   "metadata": {},
   "source": [
    "### `airlines` data"
   ]
  },
  {
   "cell_type": "markdown",
   "id": "hybrid-editing",
   "metadata": {},
   "source": [
    "Let's now look at the `airlines` data to see if we can identify what one observation corresponds to. The `.info()` method reveals that `airlines` is quite small with just 16 rows."
   ]
  },
  {
   "cell_type": "code",
   "execution_count": 42,
   "id": "functioning-booking",
   "metadata": {},
   "outputs": [
    {
     "name": "stdout",
     "output_type": "stream",
     "text": [
      "<class 'pandas.core.frame.DataFrame'>\n",
      "RangeIndex: 16 entries, 0 to 15\n",
      "Data columns (total 2 columns):\n",
      " #   Column   Non-Null Count  Dtype \n",
      "---  ------   --------------  ----- \n",
      " 0   carrier  16 non-null     object\n",
      " 1   name     16 non-null     object\n",
      "dtypes: object(2)\n",
      "memory usage: 384.0+ bytes\n"
     ]
    }
   ],
   "source": [
    "airlines.info()"
   ]
  },
  {
   "cell_type": "markdown",
   "id": "enabling-cleaner",
   "metadata": {},
   "source": [
    "Let's look at the entire data set. As we can see below, the `carrier` variable is associated with a full or longer name for each airline. "
   ]
  },
  {
   "cell_type": "code",
   "execution_count": 43,
   "id": "sustainable-sharp",
   "metadata": {},
   "outputs": [
    {
     "data": {
      "text/html": [
       "<div>\n",
       "<style scoped>\n",
       "    .dataframe tbody tr th:only-of-type {\n",
       "        vertical-align: middle;\n",
       "    }\n",
       "\n",
       "    .dataframe tbody tr th {\n",
       "        vertical-align: top;\n",
       "    }\n",
       "\n",
       "    .dataframe thead th {\n",
       "        text-align: right;\n",
       "    }\n",
       "</style>\n",
       "<table border=\"1\" class=\"dataframe\">\n",
       "  <thead>\n",
       "    <tr style=\"text-align: right;\">\n",
       "      <th></th>\n",
       "      <th>carrier</th>\n",
       "      <th>name</th>\n",
       "    </tr>\n",
       "  </thead>\n",
       "  <tbody>\n",
       "    <tr>\n",
       "      <th>0</th>\n",
       "      <td>9E</td>\n",
       "      <td>Endeavor Air Inc.</td>\n",
       "    </tr>\n",
       "    <tr>\n",
       "      <th>1</th>\n",
       "      <td>AA</td>\n",
       "      <td>American Airlines Inc.</td>\n",
       "    </tr>\n",
       "    <tr>\n",
       "      <th>2</th>\n",
       "      <td>AS</td>\n",
       "      <td>Alaska Airlines Inc.</td>\n",
       "    </tr>\n",
       "    <tr>\n",
       "      <th>3</th>\n",
       "      <td>B6</td>\n",
       "      <td>JetBlue Airways</td>\n",
       "    </tr>\n",
       "    <tr>\n",
       "      <th>4</th>\n",
       "      <td>DL</td>\n",
       "      <td>Delta Air Lines Inc.</td>\n",
       "    </tr>\n",
       "    <tr>\n",
       "      <th>5</th>\n",
       "      <td>EV</td>\n",
       "      <td>ExpressJet Airlines Inc.</td>\n",
       "    </tr>\n",
       "    <tr>\n",
       "      <th>6</th>\n",
       "      <td>F9</td>\n",
       "      <td>Frontier Airlines Inc.</td>\n",
       "    </tr>\n",
       "    <tr>\n",
       "      <th>7</th>\n",
       "      <td>FL</td>\n",
       "      <td>AirTran Airways Corporation</td>\n",
       "    </tr>\n",
       "    <tr>\n",
       "      <th>8</th>\n",
       "      <td>HA</td>\n",
       "      <td>Hawaiian Airlines Inc.</td>\n",
       "    </tr>\n",
       "    <tr>\n",
       "      <th>9</th>\n",
       "      <td>MQ</td>\n",
       "      <td>Envoy Air</td>\n",
       "    </tr>\n",
       "    <tr>\n",
       "      <th>10</th>\n",
       "      <td>OO</td>\n",
       "      <td>SkyWest Airlines Inc.</td>\n",
       "    </tr>\n",
       "    <tr>\n",
       "      <th>11</th>\n",
       "      <td>UA</td>\n",
       "      <td>United Air Lines Inc.</td>\n",
       "    </tr>\n",
       "    <tr>\n",
       "      <th>12</th>\n",
       "      <td>US</td>\n",
       "      <td>US Airways Inc.</td>\n",
       "    </tr>\n",
       "    <tr>\n",
       "      <th>13</th>\n",
       "      <td>VX</td>\n",
       "      <td>Virgin America</td>\n",
       "    </tr>\n",
       "    <tr>\n",
       "      <th>14</th>\n",
       "      <td>WN</td>\n",
       "      <td>Southwest Airlines Co.</td>\n",
       "    </tr>\n",
       "    <tr>\n",
       "      <th>15</th>\n",
       "      <td>YV</td>\n",
       "      <td>Mesa Airlines Inc.</td>\n",
       "    </tr>\n",
       "  </tbody>\n",
       "</table>\n",
       "</div>"
      ],
      "text/plain": [
       "   carrier                         name\n",
       "0       9E            Endeavor Air Inc.\n",
       "1       AA       American Airlines Inc.\n",
       "2       AS         Alaska Airlines Inc.\n",
       "3       B6              JetBlue Airways\n",
       "4       DL         Delta Air Lines Inc.\n",
       "5       EV     ExpressJet Airlines Inc.\n",
       "6       F9       Frontier Airlines Inc.\n",
       "7       FL  AirTran Airways Corporation\n",
       "8       HA       Hawaiian Airlines Inc.\n",
       "9       MQ                    Envoy Air\n",
       "10      OO        SkyWest Airlines Inc.\n",
       "11      UA        United Air Lines Inc.\n",
       "12      US              US Airways Inc.\n",
       "13      VX               Virgin America\n",
       "14      WN       Southwest Airlines Co.\n",
       "15      YV           Mesa Airlines Inc."
      ]
     },
     "execution_count": 43,
     "metadata": {},
     "output_type": "execute_result"
    }
   ],
   "source": [
    "airlines"
   ]
  },
  {
   "cell_type": "markdown",
   "id": "refined-boring",
   "metadata": {},
   "source": [
    "We can confirm that one row corresponds to one unique value of `carrier`."
   ]
  },
  {
   "cell_type": "code",
   "execution_count": 45,
   "id": "micro-magnitude",
   "metadata": {},
   "outputs": [
    {
     "data": {
      "text/plain": [
       "1    16\n",
       "Name: num_rows, dtype: int64"
      ]
     },
     "execution_count": 45,
     "metadata": {},
     "output_type": "execute_result"
    }
   ],
   "source": [
    "airlines.groupby(['carrier']).size().reset_index(name='num_rows').num_rows.value_counts()"
   ]
  },
  {
   "cell_type": "markdown",
   "id": "typical-apache",
   "metadata": {},
   "source": [
    "The `carrier` variable is the **primary key** in `airlines` and is a **foreign key** in `flights2`. We can use the `airlines` data set to \"decode\" what the abbrevation or nickname is for each airline within `flights2`."
   ]
  },
  {
   "cell_type": "markdown",
   "id": "complete-exchange",
   "metadata": {},
   "source": [
    "### Flights per manufacturer\n",
    "\n",
    "Let's now use joins to answer a specific question. We would like to know the number of flights associated with each manufacturer. The `flights2` data set gives us information associated with each flight. The manufacturer of the plane is not stored in that data set. We must join `flights2` and `planes` on `tailnum` in order to answer this question. Since we are only interested in the manufacturer, let's create a smaller version of `planes` consisting of just two columns."
   ]
  },
  {
   "cell_type": "code",
   "execution_count": 46,
   "id": "green-money",
   "metadata": {},
   "outputs": [
    {
     "data": {
      "text/html": [
       "<div>\n",
       "<style scoped>\n",
       "    .dataframe tbody tr th:only-of-type {\n",
       "        vertical-align: middle;\n",
       "    }\n",
       "\n",
       "    .dataframe tbody tr th {\n",
       "        vertical-align: top;\n",
       "    }\n",
       "\n",
       "    .dataframe thead th {\n",
       "        text-align: right;\n",
       "    }\n",
       "</style>\n",
       "<table border=\"1\" class=\"dataframe\">\n",
       "  <thead>\n",
       "    <tr style=\"text-align: right;\">\n",
       "      <th></th>\n",
       "      <th>tailnum</th>\n",
       "      <th>manufacturer</th>\n",
       "    </tr>\n",
       "  </thead>\n",
       "  <tbody>\n",
       "    <tr>\n",
       "      <th>0</th>\n",
       "      <td>N10156</td>\n",
       "      <td>EMBRAER</td>\n",
       "    </tr>\n",
       "    <tr>\n",
       "      <th>1</th>\n",
       "      <td>N102UW</td>\n",
       "      <td>AIRBUS INDUSTRIE</td>\n",
       "    </tr>\n",
       "    <tr>\n",
       "      <th>2</th>\n",
       "      <td>N103US</td>\n",
       "      <td>AIRBUS INDUSTRIE</td>\n",
       "    </tr>\n",
       "    <tr>\n",
       "      <th>3</th>\n",
       "      <td>N104UW</td>\n",
       "      <td>AIRBUS INDUSTRIE</td>\n",
       "    </tr>\n",
       "    <tr>\n",
       "      <th>4</th>\n",
       "      <td>N10575</td>\n",
       "      <td>EMBRAER</td>\n",
       "    </tr>\n",
       "    <tr>\n",
       "      <th>...</th>\n",
       "      <td>...</td>\n",
       "      <td>...</td>\n",
       "    </tr>\n",
       "    <tr>\n",
       "      <th>3317</th>\n",
       "      <td>N997AT</td>\n",
       "      <td>BOEING</td>\n",
       "    </tr>\n",
       "    <tr>\n",
       "      <th>3318</th>\n",
       "      <td>N997DL</td>\n",
       "      <td>MCDONNELL DOUGLAS AIRCRAFT CO</td>\n",
       "    </tr>\n",
       "    <tr>\n",
       "      <th>3319</th>\n",
       "      <td>N998AT</td>\n",
       "      <td>BOEING</td>\n",
       "    </tr>\n",
       "    <tr>\n",
       "      <th>3320</th>\n",
       "      <td>N998DL</td>\n",
       "      <td>MCDONNELL DOUGLAS CORPORATION</td>\n",
       "    </tr>\n",
       "    <tr>\n",
       "      <th>3321</th>\n",
       "      <td>N999DN</td>\n",
       "      <td>MCDONNELL DOUGLAS CORPORATION</td>\n",
       "    </tr>\n",
       "  </tbody>\n",
       "</table>\n",
       "<p>3322 rows × 2 columns</p>\n",
       "</div>"
      ],
      "text/plain": [
       "     tailnum                   manufacturer\n",
       "0     N10156                        EMBRAER\n",
       "1     N102UW               AIRBUS INDUSTRIE\n",
       "2     N103US               AIRBUS INDUSTRIE\n",
       "3     N104UW               AIRBUS INDUSTRIE\n",
       "4     N10575                        EMBRAER\n",
       "...      ...                            ...\n",
       "3317  N997AT                         BOEING\n",
       "3318  N997DL  MCDONNELL DOUGLAS AIRCRAFT CO\n",
       "3319  N998AT                         BOEING\n",
       "3320  N998DL  MCDONNELL DOUGLAS CORPORATION\n",
       "3321  N999DN  MCDONNELL DOUGLAS CORPORATION\n",
       "\n",
       "[3322 rows x 2 columns]"
      ]
     },
     "execution_count": 46,
     "metadata": {},
     "output_type": "execute_result"
    }
   ],
   "source": [
    "plane_makers = planes.loc[:, ['tailnum', 'manufacturer']].copy()\n",
    "plane_makers"
   ]
  },
  {
   "cell_type": "markdown",
   "id": "sealed-analysis",
   "metadata": {},
   "source": [
    "Let's now merge `plane_makers` with `flights2` on `tailnum` using a left-join."
   ]
  },
  {
   "cell_type": "code",
   "execution_count": 47,
   "id": "obvious-invite",
   "metadata": {},
   "outputs": [],
   "source": [
    "flights_b = pd.merge( flights2, plane_makers, on='tailnum', how='left')"
   ]
  },
  {
   "cell_type": "code",
   "execution_count": 50,
   "id": "stock-insurance",
   "metadata": {},
   "outputs": [
    {
     "name": "stdout",
     "output_type": "stream",
     "text": [
      "<class 'pandas.core.frame.DataFrame'>\n",
      "Int64Index: 86995 entries, 0 to 86994\n",
      "Data columns (total 9 columns):\n",
      " #   Column        Non-Null Count  Dtype \n",
      "---  ------        --------------  ----- \n",
      " 0   year          86995 non-null  int64 \n",
      " 1   month         86995 non-null  int64 \n",
      " 2   day           86995 non-null  int64 \n",
      " 3   hour          86995 non-null  int64 \n",
      " 4   origin        86995 non-null  object\n",
      " 5   dest          86995 non-null  object\n",
      " 6   tailnum       86267 non-null  object\n",
      " 7   carrier       86995 non-null  object\n",
      " 8   manufacturer  73463 non-null  object\n",
      "dtypes: int64(4), object(5)\n",
      "memory usage: 6.6+ MB\n"
     ]
    }
   ],
   "source": [
    "flights_b.info()"
   ]
  },
  {
   "cell_type": "markdown",
   "id": "fewer-injection",
   "metadata": {},
   "source": [
    "The total number of flights associated with each manufacturer can be found by counting the number of rows per unique manufacturer. As we can see below, over 22,000 flights are associated with Boeing, followed by Embraer, and then Airbus."
   ]
  },
  {
   "cell_type": "code",
   "execution_count": 51,
   "id": "quiet-cotton",
   "metadata": {},
   "outputs": [
    {
     "data": {
      "text/plain": [
       "BOEING                           22239\n",
       "EMBRAER                          17308\n",
       "AIRBUS                           12107\n",
       "AIRBUS INDUSTRIE                  9625\n",
       "BOMBARDIER INC                    6958\n",
       "MCDONNELL DOUGLAS AIRCRAFT CO     2516\n",
       "MCDONNELL DOUGLAS                 1146\n",
       "CANADAIR                           416\n",
       "MCDONNELL DOUGLAS CORPORATION      384\n",
       "GULFSTREAM AEROSPACE               190\n",
       "CESSNA                             127\n",
       "ROBINSON HELICOPTER CO              64\n",
       "BARKER JACK L                       64\n",
       "PIPER                               57\n",
       "CIRRUS DESIGN CORP                  50\n",
       "FRIEDEMANN JON                      26\n",
       "DEHAVILLAND                         24\n",
       "CANADAIR LTD                        21\n",
       "BELL                                19\n",
       "STEWART MACO                        18\n",
       "KILDALL GARY                        18\n",
       "LAMBERT RICHARD                     16\n",
       "MARZ BARRY                          11\n",
       "LEBLANC GLENN T                     11\n",
       "AMERICAN AIRCRAFT INC                9\n",
       "AGUSTA SPA                           8\n",
       "HURLEY JAMES LARRY                   8\n",
       "SIKORSKY                             6\n",
       "DOUGLAS                              5\n",
       "AVIAT AIRCRAFT INC                   3\n",
       "LEARJET INC                          3\n",
       "BEECH                                3\n",
       "PAIR MIKE E                          2\n",
       "AVIONS MARCEL DASSAULT               1\n",
       "Name: manufacturer, dtype: int64"
      ]
     },
     "execution_count": 51,
     "metadata": {},
     "output_type": "execute_result"
    }
   ],
   "source": [
    "flights_b.manufacturer.value_counts()"
   ]
  },
  {
   "cell_type": "markdown",
   "id": "vulnerable-explosion",
   "metadata": {},
   "source": [
    "### Manufacturers per airline\n",
    "\n",
    "What if we would like to know how many unique manufacturers each airline uses? We need to use group by the `carrier` variable and then apply the `nunique()` function."
   ]
  },
  {
   "cell_type": "code",
   "execution_count": 52,
   "id": "portable-vacuum",
   "metadata": {},
   "outputs": [
    {
     "data": {
      "text/html": [
       "<div>\n",
       "<style scoped>\n",
       "    .dataframe tbody tr th:only-of-type {\n",
       "        vertical-align: middle;\n",
       "    }\n",
       "\n",
       "    .dataframe tbody tr th {\n",
       "        vertical-align: top;\n",
       "    }\n",
       "\n",
       "    .dataframe thead th {\n",
       "        text-align: right;\n",
       "    }\n",
       "</style>\n",
       "<table border=\"1\" class=\"dataframe\">\n",
       "  <thead>\n",
       "    <tr style=\"text-align: right;\">\n",
       "      <th></th>\n",
       "      <th>carrier</th>\n",
       "      <th>num_makers</th>\n",
       "    </tr>\n",
       "  </thead>\n",
       "  <tbody>\n",
       "    <tr>\n",
       "      <th>0</th>\n",
       "      <td>9E</td>\n",
       "      <td>1</td>\n",
       "    </tr>\n",
       "    <tr>\n",
       "      <th>1</th>\n",
       "      <td>AA</td>\n",
       "      <td>22</td>\n",
       "    </tr>\n",
       "    <tr>\n",
       "      <th>2</th>\n",
       "      <td>AS</td>\n",
       "      <td>1</td>\n",
       "    </tr>\n",
       "    <tr>\n",
       "      <th>3</th>\n",
       "      <td>B6</td>\n",
       "      <td>6</td>\n",
       "    </tr>\n",
       "    <tr>\n",
       "      <th>4</th>\n",
       "      <td>DL</td>\n",
       "      <td>6</td>\n",
       "    </tr>\n",
       "    <tr>\n",
       "      <th>5</th>\n",
       "      <td>EV</td>\n",
       "      <td>3</td>\n",
       "    </tr>\n",
       "    <tr>\n",
       "      <th>6</th>\n",
       "      <td>F9</td>\n",
       "      <td>2</td>\n",
       "    </tr>\n",
       "    <tr>\n",
       "      <th>7</th>\n",
       "      <td>FL</td>\n",
       "      <td>2</td>\n",
       "    </tr>\n",
       "    <tr>\n",
       "      <th>8</th>\n",
       "      <td>HA</td>\n",
       "      <td>1</td>\n",
       "    </tr>\n",
       "    <tr>\n",
       "      <th>9</th>\n",
       "      <td>MQ</td>\n",
       "      <td>3</td>\n",
       "    </tr>\n",
       "    <tr>\n",
       "      <th>10</th>\n",
       "      <td>OO</td>\n",
       "      <td>1</td>\n",
       "    </tr>\n",
       "    <tr>\n",
       "      <th>11</th>\n",
       "      <td>UA</td>\n",
       "      <td>3</td>\n",
       "    </tr>\n",
       "    <tr>\n",
       "      <th>12</th>\n",
       "      <td>US</td>\n",
       "      <td>4</td>\n",
       "    </tr>\n",
       "    <tr>\n",
       "      <th>13</th>\n",
       "      <td>VX</td>\n",
       "      <td>1</td>\n",
       "    </tr>\n",
       "    <tr>\n",
       "      <th>14</th>\n",
       "      <td>WN</td>\n",
       "      <td>1</td>\n",
       "    </tr>\n",
       "    <tr>\n",
       "      <th>15</th>\n",
       "      <td>YV</td>\n",
       "      <td>2</td>\n",
       "    </tr>\n",
       "  </tbody>\n",
       "</table>\n",
       "</div>"
      ],
      "text/plain": [
       "   carrier  num_makers\n",
       "0       9E           1\n",
       "1       AA          22\n",
       "2       AS           1\n",
       "3       B6           6\n",
       "4       DL           6\n",
       "5       EV           3\n",
       "6       F9           2\n",
       "7       FL           2\n",
       "8       HA           1\n",
       "9       MQ           3\n",
       "10      OO           1\n",
       "11      UA           3\n",
       "12      US           4\n",
       "13      VX           1\n",
       "14      WN           1\n",
       "15      YV           2"
      ]
     },
     "execution_count": 52,
     "metadata": {},
     "output_type": "execute_result"
    }
   ],
   "source": [
    "flights_b.groupby(['carrier']).\\\n",
    "aggregate(num_makers = ('manufacturer', 'nunique')).\\\n",
    "reset_index()"
   ]
  },
  {
   "cell_type": "markdown",
   "id": "attended-jersey",
   "metadata": {},
   "source": [
    "Although we have tecnically answered our question, I do not know what each `carrier` abbrevation stands for. We can merge the `airline` data set on `carrier` to bring in the full or long `name` associated with each airline. The cell below uses the `.merge()` method associated with a DataFrame to demonstrate **chaining together multiple steps**."
   ]
  },
  {
   "cell_type": "code",
   "execution_count": 53,
   "id": "affected-johns",
   "metadata": {},
   "outputs": [
    {
     "data": {
      "text/html": [
       "<div>\n",
       "<style scoped>\n",
       "    .dataframe tbody tr th:only-of-type {\n",
       "        vertical-align: middle;\n",
       "    }\n",
       "\n",
       "    .dataframe tbody tr th {\n",
       "        vertical-align: top;\n",
       "    }\n",
       "\n",
       "    .dataframe thead th {\n",
       "        text-align: right;\n",
       "    }\n",
       "</style>\n",
       "<table border=\"1\" class=\"dataframe\">\n",
       "  <thead>\n",
       "    <tr style=\"text-align: right;\">\n",
       "      <th></th>\n",
       "      <th>carrier</th>\n",
       "      <th>num_makers</th>\n",
       "      <th>name</th>\n",
       "    </tr>\n",
       "  </thead>\n",
       "  <tbody>\n",
       "    <tr>\n",
       "      <th>0</th>\n",
       "      <td>9E</td>\n",
       "      <td>1</td>\n",
       "      <td>Endeavor Air Inc.</td>\n",
       "    </tr>\n",
       "    <tr>\n",
       "      <th>1</th>\n",
       "      <td>AA</td>\n",
       "      <td>22</td>\n",
       "      <td>American Airlines Inc.</td>\n",
       "    </tr>\n",
       "    <tr>\n",
       "      <th>2</th>\n",
       "      <td>AS</td>\n",
       "      <td>1</td>\n",
       "      <td>Alaska Airlines Inc.</td>\n",
       "    </tr>\n",
       "    <tr>\n",
       "      <th>3</th>\n",
       "      <td>B6</td>\n",
       "      <td>6</td>\n",
       "      <td>JetBlue Airways</td>\n",
       "    </tr>\n",
       "    <tr>\n",
       "      <th>4</th>\n",
       "      <td>DL</td>\n",
       "      <td>6</td>\n",
       "      <td>Delta Air Lines Inc.</td>\n",
       "    </tr>\n",
       "    <tr>\n",
       "      <th>5</th>\n",
       "      <td>EV</td>\n",
       "      <td>3</td>\n",
       "      <td>ExpressJet Airlines Inc.</td>\n",
       "    </tr>\n",
       "    <tr>\n",
       "      <th>6</th>\n",
       "      <td>F9</td>\n",
       "      <td>2</td>\n",
       "      <td>Frontier Airlines Inc.</td>\n",
       "    </tr>\n",
       "    <tr>\n",
       "      <th>7</th>\n",
       "      <td>FL</td>\n",
       "      <td>2</td>\n",
       "      <td>AirTran Airways Corporation</td>\n",
       "    </tr>\n",
       "    <tr>\n",
       "      <th>8</th>\n",
       "      <td>HA</td>\n",
       "      <td>1</td>\n",
       "      <td>Hawaiian Airlines Inc.</td>\n",
       "    </tr>\n",
       "    <tr>\n",
       "      <th>9</th>\n",
       "      <td>MQ</td>\n",
       "      <td>3</td>\n",
       "      <td>Envoy Air</td>\n",
       "    </tr>\n",
       "    <tr>\n",
       "      <th>10</th>\n",
       "      <td>OO</td>\n",
       "      <td>1</td>\n",
       "      <td>SkyWest Airlines Inc.</td>\n",
       "    </tr>\n",
       "    <tr>\n",
       "      <th>11</th>\n",
       "      <td>UA</td>\n",
       "      <td>3</td>\n",
       "      <td>United Air Lines Inc.</td>\n",
       "    </tr>\n",
       "    <tr>\n",
       "      <th>12</th>\n",
       "      <td>US</td>\n",
       "      <td>4</td>\n",
       "      <td>US Airways Inc.</td>\n",
       "    </tr>\n",
       "    <tr>\n",
       "      <th>13</th>\n",
       "      <td>VX</td>\n",
       "      <td>1</td>\n",
       "      <td>Virgin America</td>\n",
       "    </tr>\n",
       "    <tr>\n",
       "      <th>14</th>\n",
       "      <td>WN</td>\n",
       "      <td>1</td>\n",
       "      <td>Southwest Airlines Co.</td>\n",
       "    </tr>\n",
       "    <tr>\n",
       "      <th>15</th>\n",
       "      <td>YV</td>\n",
       "      <td>2</td>\n",
       "      <td>Mesa Airlines Inc.</td>\n",
       "    </tr>\n",
       "  </tbody>\n",
       "</table>\n",
       "</div>"
      ],
      "text/plain": [
       "   carrier  num_makers                         name\n",
       "0       9E           1            Endeavor Air Inc.\n",
       "1       AA          22       American Airlines Inc.\n",
       "2       AS           1         Alaska Airlines Inc.\n",
       "3       B6           6              JetBlue Airways\n",
       "4       DL           6         Delta Air Lines Inc.\n",
       "5       EV           3     ExpressJet Airlines Inc.\n",
       "6       F9           2       Frontier Airlines Inc.\n",
       "7       FL           2  AirTran Airways Corporation\n",
       "8       HA           1       Hawaiian Airlines Inc.\n",
       "9       MQ           3                    Envoy Air\n",
       "10      OO           1        SkyWest Airlines Inc.\n",
       "11      UA           3        United Air Lines Inc.\n",
       "12      US           4              US Airways Inc.\n",
       "13      VX           1               Virgin America\n",
       "14      WN           1       Southwest Airlines Co.\n",
       "15      YV           2           Mesa Airlines Inc."
      ]
     },
     "execution_count": 53,
     "metadata": {},
     "output_type": "execute_result"
    }
   ],
   "source": [
    "flights_b.groupby(['carrier']).\\\n",
    "aggregate(num_makers = ('manufacturer', 'nunique')).\\\n",
    "reset_index().\\\n",
    "merge(airlines, on='carrier', how='left')"
   ]
  },
  {
   "cell_type": "markdown",
   "id": "missing-yemen",
   "metadata": {},
   "source": [
    "We are now able to see that American Airlines uses 22 unique manufacturers, while Jetblue uses just 6."
   ]
  },
  {
   "cell_type": "markdown",
   "id": "dense-caribbean",
   "metadata": {},
   "source": [
    "## Summary\n",
    "\n",
    "Joins or mergers between data sets allow us to combine information stored within different data sets. Those data sets are *related* to each other via certain variables that allow the joining or linking to take place. We have thus started to think about answering data analysis questions not based on a single large data set, but through *relationships* defined across multiple data sets. As we will see in the weeks to come, storing data in such a way streamlines and simplifies the management and preservation of data over time. We have thus started thinking about creating a **data base** to efficiently store data for long term use!"
   ]
  },
  {
   "cell_type": "code",
   "execution_count": null,
   "id": "progressive-exception",
   "metadata": {},
   "outputs": [],
   "source": []
  }
 ],
 "metadata": {
  "kernelspec": {
   "display_name": "Python 3 (ipykernel)",
   "language": "python",
   "name": "python3"
  },
  "language_info": {
   "codemirror_mode": {
    "name": "ipython",
    "version": 3
   },
   "file_extension": ".py",
   "mimetype": "text/x-python",
   "name": "python",
   "nbconvert_exporter": "python",
   "pygments_lexer": "ipython3",
   "version": "3.8.15"
  }
 },
 "nbformat": 4,
 "nbformat_minor": 5
}
